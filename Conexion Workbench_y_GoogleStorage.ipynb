{
 "cells": [
  {
   "cell_type": "markdown",
   "id": "79be41cb-7aaa-42aa-a411-61993db6d7de",
   "metadata": {},
   "source": [
    "# Interaccion de Cloud storage con phyton.\n",
    "\n",
    "Cloud storage es el sistema de almacenamiento escable que ofrece google.\n",
    "\n",
    "hay diversas formas de acceder y utilizar el cloud storage\n",
    "\n",
    "1. Por medio de la consola de google cloud, solo clic arrastra y suelta. Configuraciones rapidas o pruebas.\n",
    "2. Para conectarse con comandos de sistemas operativos, con scripts y aplicaciones de consola. Podemos utilizar el IDE de consola de Google Cloud CLI GSUTIL.\n",
    "3. Para trabajar con aplicaciones backend. Se utilizan las bibliotecas de clientes.\n",
    "4. Para aplicaciones de frontend, para carga directa sin pasar por un servidor. utilizar las bibliotecas de firebase.\n",
    "5. Si el lenguaje no esta soportado se puede utilizar la api json.\n",
    "\n",
    "Para fines del ejercicio en vista de que estaremos trabajando en unicio en un note book de jupiter para temas de aplicacion de algoritmos de ML estaremos utilizando este ejemplo con la api de python. La cual vamos a llamar directamente desde GCS.\n",
    "\n",
    "Enlace con la lista de lenguajes de clientes soportados por el API\n",
    "\n",
    "https://cloud.google.com/apis/docs/cloud-client-libraries?hl=es-419\n",
    "\n",
    "# Ejemplo instalacion y conexion en un note book de jupiter ejecutado directamente desde Workbench"
   ]
  },
  {
   "cell_type": "code",
   "execution_count": null,
   "id": "00b77234-eec0-4a97-aa45-70cb38587508",
   "metadata": {},
   "outputs": [],
   "source": [
    "pip install --upgrade google-cloud-datastore"
   ]
  },
  {
   "cell_type": "code",
   "execution_count": 5,
   "id": "315b4fc3-7da7-4f65-93b7-04749d109ad8",
   "metadata": {},
   "outputs": [],
   "source": [
    "from google.cloud import storage"
   ]
  },
  {
   "cell_type": "code",
   "execution_count": 6,
   "id": "5fd94b0c-a6fa-4083-8953-6ef300a991f5",
   "metadata": {},
   "outputs": [],
   "source": [
    "client = storage.Client()"
   ]
  },
  {
   "cell_type": "code",
   "execution_count": 11,
   "id": "b1b924e5-78e9-4409-b9c3-9ee0978e2cce",
   "metadata": {},
   "outputs": [
    {
     "name": "stdout",
     "output_type": "stream",
     "text": [
      "Bucket demoedision02 created.\n"
     ]
    }
   ],
   "source": [
    "# Establecer nombre del bucket\n",
    "bucket_name = \"demoedision02\"\n",
    "\n",
    "# Crear nuevo bucket\n",
    "bucket = client.create_bucket(bucket_name)\n",
    "\n",
    "print(f\"Bucket {bucket.name} created.\")"
   ]
  },
  {
   "cell_type": "code",
   "execution_count": 22,
   "id": "42e3353b-ad1f-42db-88e4-12063fd592c5",
   "metadata": {},
   "outputs": [
    {
     "name": "stdout",
     "output_type": "stream",
     "text": [
      "Carga Completa\n"
     ]
    }
   ],
   "source": [
    "#Subiendo una imagen\n",
    "bucket = client.get_bucket('demoedision02')\n",
    "blob = bucket.blob('Imagenes/data.jpg')\n",
    "blob.upload_from_filename(\"data.jpg\")\n",
    "print(\"Carga Completa\")"
   ]
  },
  {
   "cell_type": "code",
   "execution_count": 23,
   "id": "f9342586-04f3-425a-a458-008a35839308",
   "metadata": {},
   "outputs": [
    {
     "name": "stdout",
     "output_type": "stream",
     "text": [
      "Archivo creado con exito\n"
     ]
    }
   ],
   "source": [
    "# Creando un archivo de texto y almacenandolo\n",
    "bucket.blob('Documentos/texto1.txt').upload_from_string('texto de ejemplo')\n",
    "print(\"Archivo creado con exito\")"
   ]
  },
  {
   "cell_type": "markdown",
   "id": "22e24f21-1667-4ac9-97b4-53c1d1e610ad",
   "metadata": {},
   "source": [
    "### Lista completa de funciones se encuentra en el siguiente enlace:\n",
    "https://cloud.google.com/appengine/docs/legacy/standard/python/googlecloudstorageclient/functions?hl=es-419"
   ]
  }
 ],
 "metadata": {
  "environment": {
   "kernel": "python3",
   "name": "common-cpu.m107",
   "type": "gcloud",
   "uri": "gcr.io/deeplearning-platform-release/base-cpu:m107"
  },
  "kernelspec": {
   "display_name": "Python 3",
   "language": "python",
   "name": "python3"
  },
  "language_info": {
   "codemirror_mode": {
    "name": "ipython",
    "version": 3
   },
   "file_extension": ".py",
   "mimetype": "text/x-python",
   "name": "python",
   "nbconvert_exporter": "python",
   "pygments_lexer": "ipython3",
   "version": "3.7.12"
  }
 },
 "nbformat": 4,
 "nbformat_minor": 5
}
