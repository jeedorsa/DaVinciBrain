{
 "cells": [
  {
   "cell_type": "code",
   "execution_count": 3,
   "id": "b93308de-22d8-4f3c-bb17-43d65c3fb2e8",
   "metadata": {},
   "outputs": [],
   "source": [
    "import pandas as pd\n",
    "from google.cloud import storage"
   ]
  },
  {
   "cell_type": "code",
   "execution_count": 4,
   "id": "00abfd67-e931-4ea0-873e-1d91c2ebc9de",
   "metadata": {},
   "outputs": [],
   "source": [
    "def guardar_en_bucket(bucketName, csvName, destination_blob_name):\n",
    "    \n",
    "    cliente = storage.Client()\n",
    "    \n",
    "    bucket = cliente.get_bucket(bucketName)\n",
    "    \n",
    "    blob = bucket.blob(destination_blob_name)\n",
    "    \n",
    "    blob.upload_from_filename(csvName)\n",
    "    \n",
    "    print(f\"Datos cargados exitosamente en el archivo CSV: gs://{bucketName}/{destination_blob_name}\")\n",
    " \n",
    "# gs://davinci_data/address_cleaned.csv\n",
    "# address_cleaned.csv\n"
   ]
  },
  {
   "cell_type": "code",
   "execution_count": 5,
   "id": "c1c9f92a-0e1a-49dd-aa6b-afcbc2f6de50",
   "metadata": {},
   "outputs": [
    {
     "name": "stdout",
     "output_type": "stream",
     "text": [
      "Datos cargados exitosamente en el archivo CSV: gs://davinci_data/address_cleaned.csv\n"
     ]
    }
   ],
   "source": [
    "guardar_en_bucket(\"davinci_data\",\"address_cleaned.csv\",\"address_cleaned.csv\")\n"
   ]
  },
  {
   "cell_type": "code",
   "execution_count": null,
   "id": "69c37b9d-c7c0-47ae-92fe-77bda040bacb",
   "metadata": {},
   "outputs": [],
   "source": []
  }
 ],
 "metadata": {
  "environment": {
   "kernel": "python3",
   "name": "common-cpu.m107",
   "type": "gcloud",
   "uri": "gcr.io/deeplearning-platform-release/base-cpu:m107"
  },
  "kernelspec": {
   "display_name": "Python 3",
   "language": "python",
   "name": "python3"
  },
  "language_info": {
   "codemirror_mode": {
    "name": "ipython",
    "version": 3
   },
   "file_extension": ".py",
   "mimetype": "text/x-python",
   "name": "python",
   "nbconvert_exporter": "python",
   "pygments_lexer": "ipython3",
   "version": "3.7.12"
  }
 },
 "nbformat": 4,
 "nbformat_minor": 5
}
