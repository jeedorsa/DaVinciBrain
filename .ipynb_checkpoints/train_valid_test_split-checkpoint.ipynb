{
  "nbformat": 4,
  "nbformat_minor": 0,
  "metadata": {
    "colab": {
      "provenance": []
    },
    "kernelspec": {
      "name": "python3",
      "display_name": "Python 3"
    },
    "language_info": {
      "name": "python"
    }
  },
  "cells": [
    {
      "cell_type": "code",
      "execution_count": null,
      "metadata": {
        "id": "8k7Pr8gpsRLp"
      },
      "outputs": [],
      "source": [
        "from sklearn.model_selection import train_test_split\n",
        "\n",
        "# Dividir los datos en conjuntos de entrenamiento, validación y prueba\n",
        "# Primero, dividimos en entrenamiento y prueba\n",
        "X_train, X_test, y_train, y_test = train_test_split(X, y, test_size=0.3, random_state=42, stratify=y)\n",
        "\n",
        "# Luego, dividimos el conjunto de prueba en validación y prueba\n",
        "X_val, X_test, y_val, y_test = train_test_split(X_test, y_test, test_size=0.5, random_state=42, stratify=y_test)\n",
        "\n",
        "# Verificar los tamaños de los conjuntos resultantes\n",
        "print(\"Tamaño del conjunto de entrenamiento (X_train):\", len(X_train))\n",
        "print(\"Tamaño del conjunto de validación (X_val):\", len(X_val))\n",
        "print(\"Tamaño del conjunto de prueba (X_test):\", len(X_test))\n",
        "print(\"Tamaño del conjunto de entrenamiento (y_train):\", len(y_train))\n",
        "print(\"Tamaño del conjunto de validación (y_val):\", len(y_val))\n",
        "print(\"Tamaño del conjunto de prueba (y_test):\", len(y_test))"
      ]
    }
  ]
}