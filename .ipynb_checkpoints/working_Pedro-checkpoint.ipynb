{
 "cells": [
  {
   "cell_type": "markdown",
   "id": "4c4a0279-6cd0-4c3b-99d6-c630dae874fb",
   "metadata": {
    "tags": []
   },
   "source": [
    "## DATA IMPORT"
   ]
  },
  {
   "cell_type": "code",
   "execution_count": 3,
   "id": "24483f9a-7280-4353-93ea-faa46cb0a00a",
   "metadata": {},
   "outputs": [],
   "source": [
    "import pandas as pd\n",
    "import numpy as np\n",
    "from sklearn.model_selection import train_test_split\n",
    "from sklearn.compose import make_column_selector, make_column_transformer\n",
    "from sklearn.ensemble import RandomForestClassifier\n",
    "from sklearn.preprocessing import StandardScaler,OneHotEncoder\n",
    "from sklearn.neighbors import KNeighborsRegressor\n",
    "from sklearn.ensemble import RandomForestRegressor\n",
    "from sklearn.metrics import mean_absolute_error, mean_squared_error,r2_score, accuracy_score"
   ]
  },
  {
   "cell_type": "code",
   "execution_count": 4,
   "id": "a5da1be5-b10c-4bd8-816e-99e0a106d532",
   "metadata": {},
   "outputs": [
    {
     "data": {
      "text/html": [
       "<div>\n",
       "<style scoped>\n",
       "    .dataframe tbody tr th:only-of-type {\n",
       "        vertical-align: middle;\n",
       "    }\n",
       "\n",
       "    .dataframe tbody tr th {\n",
       "        vertical-align: top;\n",
       "    }\n",
       "\n",
       "    .dataframe thead th {\n",
       "        text-align: right;\n",
       "    }\n",
       "</style>\n",
       "<table border=\"1\" class=\"dataframe\">\n",
       "  <thead>\n",
       "    <tr style=\"text-align: right;\">\n",
       "      <th></th>\n",
       "      <th>Entrenamiento</th>\n",
       "      <th>Email</th>\n",
       "      <th>Precios US</th>\n",
       "      <th>Ubicacion</th>\n",
       "      <th>Incluye pasantia</th>\n",
       "      <th>Metodo de pago</th>\n",
       "      <th>Estatus laboral</th>\n",
       "      <th>Razon de eleccion del bootcamp</th>\n",
       "      <th>Proveedores de bootcamp</th>\n",
       "      <th>Horario de los bootcamps</th>\n",
       "      <th>Egresado_Activo</th>\n",
       "      <th>Egresado_Egresado</th>\n",
       "      <th>Egresado_Retirado</th>\n",
       "      <th>Primer contacto_Instagram</th>\n",
       "      <th>Primer contacto_WhatsApp</th>\n",
       "      <th>Condiciones de pago_Completo</th>\n",
       "      <th>Condiciones de pago_Cuotas</th>\n",
       "    </tr>\n",
       "  </thead>\n",
       "  <tbody>\n",
       "    <tr>\n",
       "      <th>0</th>\n",
       "      <td>Bootcamp en Desarrollo Web con C#</td>\n",
       "      <td>gmail.com</td>\n",
       "      <td>2900.0</td>\n",
       "      <td>Distrito Nacional</td>\n",
       "      <td>0</td>\n",
       "      <td>Transferencia</td>\n",
       "      <td>1</td>\n",
       "      <td>Crecimiento laboral</td>\n",
       "      <td>Maestros de Talendig</td>\n",
       "      <td>Lunes, miércoles y viernes de 6:00pm a 8:00 pm</td>\n",
       "      <td>0.0</td>\n",
       "      <td>1.0</td>\n",
       "      <td>0.0</td>\n",
       "      <td>1.0</td>\n",
       "      <td>0.0</td>\n",
       "      <td>0.0</td>\n",
       "      <td>1.0</td>\n",
       "    </tr>\n",
       "    <tr>\n",
       "      <th>1</th>\n",
       "      <td>Bootcamp en Desarrollo Web con C#</td>\n",
       "      <td>gmail.com</td>\n",
       "      <td>2900.0</td>\n",
       "      <td>Santo Domingo Este</td>\n",
       "      <td>0</td>\n",
       "      <td>Transferencia</td>\n",
       "      <td>1</td>\n",
       "      <td>Crecimiento laboral</td>\n",
       "      <td>Maestros de Talendig</td>\n",
       "      <td>Lunes, miércoles y viernes de 6:00pm a 8:00 pm</td>\n",
       "      <td>0.0</td>\n",
       "      <td>0.0</td>\n",
       "      <td>1.0</td>\n",
       "      <td>1.0</td>\n",
       "      <td>0.0</td>\n",
       "      <td>0.0</td>\n",
       "      <td>1.0</td>\n",
       "    </tr>\n",
       "    <tr>\n",
       "      <th>2</th>\n",
       "      <td>Bootcamp en Desarrollo Web con C#</td>\n",
       "      <td>gmail.com</td>\n",
       "      <td>2900.0</td>\n",
       "      <td>Distrito Nacional</td>\n",
       "      <td>0</td>\n",
       "      <td>Transferencia</td>\n",
       "      <td>1</td>\n",
       "      <td>Crecimiento laboral</td>\n",
       "      <td>Maestros de Talendig</td>\n",
       "      <td>Lunes, miércoles y viernes de 6:00pm a 8:00 pm</td>\n",
       "      <td>0.0</td>\n",
       "      <td>1.0</td>\n",
       "      <td>0.0</td>\n",
       "      <td>1.0</td>\n",
       "      <td>0.0</td>\n",
       "      <td>0.0</td>\n",
       "      <td>1.0</td>\n",
       "    </tr>\n",
       "    <tr>\n",
       "      <th>3</th>\n",
       "      <td>Bootcamp en Desarrollo Web con Java</td>\n",
       "      <td>gmail.com</td>\n",
       "      <td>2900.0</td>\n",
       "      <td>Distrito Nacional</td>\n",
       "      <td>0</td>\n",
       "      <td>Transferencia</td>\n",
       "      <td>0</td>\n",
       "      <td>Crecimiento laboral</td>\n",
       "      <td>Maestros de Talendig</td>\n",
       "      <td>Martes, jueves y viernes de 6:00 pm a 8:00 pm</td>\n",
       "      <td>0.0</td>\n",
       "      <td>0.0</td>\n",
       "      <td>1.0</td>\n",
       "      <td>1.0</td>\n",
       "      <td>0.0</td>\n",
       "      <td>0.0</td>\n",
       "      <td>1.0</td>\n",
       "    </tr>\n",
       "    <tr>\n",
       "      <th>4</th>\n",
       "      <td>Bootcamp en Desarrollo Web con Java</td>\n",
       "      <td>gmail.com</td>\n",
       "      <td>2900.0</td>\n",
       "      <td>Boca Chica</td>\n",
       "      <td>0</td>\n",
       "      <td>Transferencia</td>\n",
       "      <td>1</td>\n",
       "      <td>Crecimiento laboral</td>\n",
       "      <td>Maestros de Talendig</td>\n",
       "      <td>Martes, jueves y viernes de 6:00 pm a 8:00 pm</td>\n",
       "      <td>0.0</td>\n",
       "      <td>1.0</td>\n",
       "      <td>0.0</td>\n",
       "      <td>1.0</td>\n",
       "      <td>0.0</td>\n",
       "      <td>0.0</td>\n",
       "      <td>1.0</td>\n",
       "    </tr>\n",
       "    <tr>\n",
       "      <th>...</th>\n",
       "      <td>...</td>\n",
       "      <td>...</td>\n",
       "      <td>...</td>\n",
       "      <td>...</td>\n",
       "      <td>...</td>\n",
       "      <td>...</td>\n",
       "      <td>...</td>\n",
       "      <td>...</td>\n",
       "      <td>...</td>\n",
       "      <td>...</td>\n",
       "      <td>...</td>\n",
       "      <td>...</td>\n",
       "      <td>...</td>\n",
       "      <td>...</td>\n",
       "      <td>...</td>\n",
       "      <td>...</td>\n",
       "      <td>...</td>\n",
       "    </tr>\n",
       "    <tr>\n",
       "      <th>155</th>\n",
       "      <td>Bootcamp en Desarrollo Web</td>\n",
       "      <td>gmail.com</td>\n",
       "      <td>2900.0</td>\n",
       "      <td>Santo Domingo Este</td>\n",
       "      <td>0</td>\n",
       "      <td>Transferencia</td>\n",
       "      <td>0</td>\n",
       "      <td>Aprender algo nuevo</td>\n",
       "      <td>Maestros de Talendig</td>\n",
       "      <td>Luner, miércoles y viernes de 8: pm a 10:00 pm</td>\n",
       "      <td>1.0</td>\n",
       "      <td>0.0</td>\n",
       "      <td>0.0</td>\n",
       "      <td>1.0</td>\n",
       "      <td>0.0</td>\n",
       "      <td>0.0</td>\n",
       "      <td>1.0</td>\n",
       "    </tr>\n",
       "    <tr>\n",
       "      <th>156</th>\n",
       "      <td>Bootcamp en Desarrollo Web</td>\n",
       "      <td>gmail.com</td>\n",
       "      <td>2900.0</td>\n",
       "      <td>Santo Domingo Este</td>\n",
       "      <td>0</td>\n",
       "      <td>Transferencia</td>\n",
       "      <td>0</td>\n",
       "      <td>Aprender algo nuevo</td>\n",
       "      <td>Maestros de Talendig</td>\n",
       "      <td>Luner, miércoles y viernes de 8: pm a 10:00 pm</td>\n",
       "      <td>1.0</td>\n",
       "      <td>0.0</td>\n",
       "      <td>0.0</td>\n",
       "      <td>1.0</td>\n",
       "      <td>0.0</td>\n",
       "      <td>0.0</td>\n",
       "      <td>1.0</td>\n",
       "    </tr>\n",
       "    <tr>\n",
       "      <th>157</th>\n",
       "      <td>Bootcamp en Data Science y Machine Learning en...</td>\n",
       "      <td>gmail.com</td>\n",
       "      <td>2900.0</td>\n",
       "      <td>Distrito Nacional</td>\n",
       "      <td>1</td>\n",
       "      <td>Transferencia</td>\n",
       "      <td>0</td>\n",
       "      <td>Aprender algo nuevo</td>\n",
       "      <td>Maestros de Talendig</td>\n",
       "      <td>Martes, Jueves y Sábados</td>\n",
       "      <td>1.0</td>\n",
       "      <td>0.0</td>\n",
       "      <td>0.0</td>\n",
       "      <td>0.0</td>\n",
       "      <td>1.0</td>\n",
       "      <td>0.0</td>\n",
       "      <td>1.0</td>\n",
       "    </tr>\n",
       "    <tr>\n",
       "      <th>158</th>\n",
       "      <td>Bootcamp en Data Science y Machine Learning en...</td>\n",
       "      <td>hotmail.com</td>\n",
       "      <td>2900.0</td>\n",
       "      <td>Distrito Nacional</td>\n",
       "      <td>1</td>\n",
       "      <td>Transferencia</td>\n",
       "      <td>0</td>\n",
       "      <td>Aprender algo nuevo</td>\n",
       "      <td>Maestros de Talendig</td>\n",
       "      <td>Martes, Jueves y Sábados</td>\n",
       "      <td>1.0</td>\n",
       "      <td>0.0</td>\n",
       "      <td>0.0</td>\n",
       "      <td>0.0</td>\n",
       "      <td>1.0</td>\n",
       "      <td>0.0</td>\n",
       "      <td>1.0</td>\n",
       "    </tr>\n",
       "    <tr>\n",
       "      <th>159</th>\n",
       "      <td>Bootcamp en Data Science y Machine Learning en...</td>\n",
       "      <td>hotmail.com</td>\n",
       "      <td>2900.0</td>\n",
       "      <td>Distrito Nacional</td>\n",
       "      <td>1</td>\n",
       "      <td>Transferencia</td>\n",
       "      <td>0</td>\n",
       "      <td>Aprender algo nuevo</td>\n",
       "      <td>Maestros de Talendig</td>\n",
       "      <td>Martes, Jueves y Sábados</td>\n",
       "      <td>1.0</td>\n",
       "      <td>0.0</td>\n",
       "      <td>0.0</td>\n",
       "      <td>0.0</td>\n",
       "      <td>1.0</td>\n",
       "      <td>0.0</td>\n",
       "      <td>1.0</td>\n",
       "    </tr>\n",
       "  </tbody>\n",
       "</table>\n",
       "<p>160 rows × 17 columns</p>\n",
       "</div>"
      ],
      "text/plain": [
       "                                         Entrenamiento        Email  \\\n",
       "0                    Bootcamp en Desarrollo Web con C#    gmail.com   \n",
       "1                    Bootcamp en Desarrollo Web con C#    gmail.com   \n",
       "2                    Bootcamp en Desarrollo Web con C#    gmail.com   \n",
       "3                  Bootcamp en Desarrollo Web con Java    gmail.com   \n",
       "4                  Bootcamp en Desarrollo Web con Java    gmail.com   \n",
       "..                                                 ...          ...   \n",
       "155                         Bootcamp en Desarrollo Web    gmail.com   \n",
       "156                         Bootcamp en Desarrollo Web    gmail.com   \n",
       "157  Bootcamp en Data Science y Machine Learning en...    gmail.com   \n",
       "158  Bootcamp en Data Science y Machine Learning en...  hotmail.com   \n",
       "159  Bootcamp en Data Science y Machine Learning en...  hotmail.com   \n",
       "\n",
       "     Precios US           Ubicacion  Incluye pasantia Metodo de pago  \\\n",
       "0        2900.0   Distrito Nacional                 0  Transferencia   \n",
       "1        2900.0  Santo Domingo Este                 0  Transferencia   \n",
       "2        2900.0   Distrito Nacional                 0  Transferencia   \n",
       "3        2900.0   Distrito Nacional                 0  Transferencia   \n",
       "4        2900.0          Boca Chica                 0  Transferencia   \n",
       "..          ...                 ...               ...            ...   \n",
       "155      2900.0  Santo Domingo Este                 0  Transferencia   \n",
       "156      2900.0  Santo Domingo Este                 0  Transferencia   \n",
       "157      2900.0   Distrito Nacional                 1  Transferencia   \n",
       "158      2900.0   Distrito Nacional                 1  Transferencia   \n",
       "159      2900.0   Distrito Nacional                 1  Transferencia   \n",
       "\n",
       "     Estatus laboral Razon de eleccion del bootcamp Proveedores de bootcamp  \\\n",
       "0                  1            Crecimiento laboral    Maestros de Talendig   \n",
       "1                  1            Crecimiento laboral    Maestros de Talendig   \n",
       "2                  1            Crecimiento laboral    Maestros de Talendig   \n",
       "3                  0            Crecimiento laboral    Maestros de Talendig   \n",
       "4                  1            Crecimiento laboral    Maestros de Talendig   \n",
       "..               ...                            ...                     ...   \n",
       "155                0            Aprender algo nuevo    Maestros de Talendig   \n",
       "156                0            Aprender algo nuevo    Maestros de Talendig   \n",
       "157                0            Aprender algo nuevo    Maestros de Talendig   \n",
       "158                0            Aprender algo nuevo    Maestros de Talendig   \n",
       "159                0            Aprender algo nuevo    Maestros de Talendig   \n",
       "\n",
       "                           Horario de los bootcamps  Egresado_Activo  \\\n",
       "0    Lunes, miércoles y viernes de 6:00pm a 8:00 pm              0.0   \n",
       "1    Lunes, miércoles y viernes de 6:00pm a 8:00 pm              0.0   \n",
       "2    Lunes, miércoles y viernes de 6:00pm a 8:00 pm              0.0   \n",
       "3     Martes, jueves y viernes de 6:00 pm a 8:00 pm              0.0   \n",
       "4     Martes, jueves y viernes de 6:00 pm a 8:00 pm              0.0   \n",
       "..                                              ...              ...   \n",
       "155  Luner, miércoles y viernes de 8: pm a 10:00 pm              1.0   \n",
       "156  Luner, miércoles y viernes de 8: pm a 10:00 pm              1.0   \n",
       "157                        Martes, Jueves y Sábados              1.0   \n",
       "158                        Martes, Jueves y Sábados              1.0   \n",
       "159                        Martes, Jueves y Sábados              1.0   \n",
       "\n",
       "     Egresado_Egresado  Egresado_Retirado  Primer contacto_Instagram  \\\n",
       "0                  1.0                0.0                        1.0   \n",
       "1                  0.0                1.0                        1.0   \n",
       "2                  1.0                0.0                        1.0   \n",
       "3                  0.0                1.0                        1.0   \n",
       "4                  1.0                0.0                        1.0   \n",
       "..                 ...                ...                        ...   \n",
       "155                0.0                0.0                        1.0   \n",
       "156                0.0                0.0                        1.0   \n",
       "157                0.0                0.0                        0.0   \n",
       "158                0.0                0.0                        0.0   \n",
       "159                0.0                0.0                        0.0   \n",
       "\n",
       "     Primer contacto_WhatsApp  Condiciones de pago_Completo  \\\n",
       "0                         0.0                           0.0   \n",
       "1                         0.0                           0.0   \n",
       "2                         0.0                           0.0   \n",
       "3                         0.0                           0.0   \n",
       "4                         0.0                           0.0   \n",
       "..                        ...                           ...   \n",
       "155                       0.0                           0.0   \n",
       "156                       0.0                           0.0   \n",
       "157                       1.0                           0.0   \n",
       "158                       1.0                           0.0   \n",
       "159                       1.0                           0.0   \n",
       "\n",
       "     Condiciones de pago_Cuotas  \n",
       "0                           1.0  \n",
       "1                           1.0  \n",
       "2                           1.0  \n",
       "3                           1.0  \n",
       "4                           1.0  \n",
       "..                          ...  \n",
       "155                         1.0  \n",
       "156                         1.0  \n",
       "157                         1.0  \n",
       "158                         1.0  \n",
       "159                         1.0  \n",
       "\n",
       "[160 rows x 17 columns]"
      ]
     },
     "execution_count": 4,
     "metadata": {},
     "output_type": "execute_result"
    }
   ],
   "source": [
    "df = pd.read_csv('address_cleaned.csv')\n",
    "df"
   ]
  },
  {
   "cell_type": "code",
   "execution_count": 5,
   "id": "8702c9f6-4ea3-4aee-a197-28ae44b3d49e",
   "metadata": {},
   "outputs": [
    {
     "data": {
      "text/plain": [
       "0.0    142\n",
       "1.0     18\n",
       "Name: Egresado_Activo, dtype: int64"
      ]
     },
     "execution_count": 5,
     "metadata": {},
     "output_type": "execute_result"
    }
   ],
   "source": [
    "df[\"Egresado_Activo\"].value_counts()"
   ]
  },
  {
   "cell_type": "markdown",
   "id": "38bae1c2-09e0-4e50-b420-dc05bbd78c0a",
   "metadata": {},
   "source": [
    "Se eliminara la columna de egresados activos porque no existe una correlacion con el la columna objetivo. "
   ]
  },
  {
   "cell_type": "code",
   "execution_count": 6,
   "id": "558a8388-5601-4041-93e2-8f45bf025821",
   "metadata": {},
   "outputs": [],
   "source": [
    "df = df.drop(df.loc[df[\"Egresado_Activo\"] == 1].index)"
   ]
  },
  {
   "cell_type": "code",
   "execution_count": 7,
   "id": "a0cc8af7-7858-4974-8d8f-d324d82514fe",
   "metadata": {},
   "outputs": [
    {
     "data": {
      "text/plain": [
       "0.0    142\n",
       "Name: Egresado_Activo, dtype: int64"
      ]
     },
     "execution_count": 7,
     "metadata": {},
     "output_type": "execute_result"
    }
   ],
   "source": [
    "df[\"Egresado_Activo\"].value_counts()"
   ]
  },
  {
   "cell_type": "code",
   "execution_count": 8,
   "id": "5c1d3b11-5877-45f3-8176-a560357a049a",
   "metadata": {},
   "outputs": [
    {
     "data": {
      "text/html": [
       "<div>\n",
       "<style scoped>\n",
       "    .dataframe tbody tr th:only-of-type {\n",
       "        vertical-align: middle;\n",
       "    }\n",
       "\n",
       "    .dataframe tbody tr th {\n",
       "        vertical-align: top;\n",
       "    }\n",
       "\n",
       "    .dataframe thead th {\n",
       "        text-align: right;\n",
       "    }\n",
       "</style>\n",
       "<table border=\"1\" class=\"dataframe\">\n",
       "  <thead>\n",
       "    <tr style=\"text-align: right;\">\n",
       "      <th></th>\n",
       "      <th>Entrenamiento</th>\n",
       "      <th>Email</th>\n",
       "      <th>Precios US</th>\n",
       "      <th>Ubicacion</th>\n",
       "      <th>Incluye pasantia</th>\n",
       "      <th>Metodo de pago</th>\n",
       "      <th>Estatus laboral</th>\n",
       "      <th>Razon de eleccion del bootcamp</th>\n",
       "      <th>Proveedores de bootcamp</th>\n",
       "      <th>Horario de los bootcamps</th>\n",
       "      <th>Egresado_Egresado</th>\n",
       "      <th>Primer contacto_Instagram</th>\n",
       "      <th>Primer contacto_WhatsApp</th>\n",
       "      <th>Condiciones de pago_Completo</th>\n",
       "      <th>Condiciones de pago_Cuotas</th>\n",
       "    </tr>\n",
       "  </thead>\n",
       "  <tbody>\n",
       "    <tr>\n",
       "      <th>0</th>\n",
       "      <td>Bootcamp en Desarrollo Web con C#</td>\n",
       "      <td>gmail.com</td>\n",
       "      <td>2900.0</td>\n",
       "      <td>Distrito Nacional</td>\n",
       "      <td>0</td>\n",
       "      <td>Transferencia</td>\n",
       "      <td>1</td>\n",
       "      <td>Crecimiento laboral</td>\n",
       "      <td>Maestros de Talendig</td>\n",
       "      <td>Lunes, miércoles y viernes de 6:00pm a 8:00 pm</td>\n",
       "      <td>1.0</td>\n",
       "      <td>1.0</td>\n",
       "      <td>0.0</td>\n",
       "      <td>0.0</td>\n",
       "      <td>1.0</td>\n",
       "    </tr>\n",
       "    <tr>\n",
       "      <th>1</th>\n",
       "      <td>Bootcamp en Desarrollo Web con C#</td>\n",
       "      <td>gmail.com</td>\n",
       "      <td>2900.0</td>\n",
       "      <td>Santo Domingo Este</td>\n",
       "      <td>0</td>\n",
       "      <td>Transferencia</td>\n",
       "      <td>1</td>\n",
       "      <td>Crecimiento laboral</td>\n",
       "      <td>Maestros de Talendig</td>\n",
       "      <td>Lunes, miércoles y viernes de 6:00pm a 8:00 pm</td>\n",
       "      <td>0.0</td>\n",
       "      <td>1.0</td>\n",
       "      <td>0.0</td>\n",
       "      <td>0.0</td>\n",
       "      <td>1.0</td>\n",
       "    </tr>\n",
       "    <tr>\n",
       "      <th>2</th>\n",
       "      <td>Bootcamp en Desarrollo Web con C#</td>\n",
       "      <td>gmail.com</td>\n",
       "      <td>2900.0</td>\n",
       "      <td>Distrito Nacional</td>\n",
       "      <td>0</td>\n",
       "      <td>Transferencia</td>\n",
       "      <td>1</td>\n",
       "      <td>Crecimiento laboral</td>\n",
       "      <td>Maestros de Talendig</td>\n",
       "      <td>Lunes, miércoles y viernes de 6:00pm a 8:00 pm</td>\n",
       "      <td>1.0</td>\n",
       "      <td>1.0</td>\n",
       "      <td>0.0</td>\n",
       "      <td>0.0</td>\n",
       "      <td>1.0</td>\n",
       "    </tr>\n",
       "    <tr>\n",
       "      <th>3</th>\n",
       "      <td>Bootcamp en Desarrollo Web con Java</td>\n",
       "      <td>gmail.com</td>\n",
       "      <td>2900.0</td>\n",
       "      <td>Distrito Nacional</td>\n",
       "      <td>0</td>\n",
       "      <td>Transferencia</td>\n",
       "      <td>0</td>\n",
       "      <td>Crecimiento laboral</td>\n",
       "      <td>Maestros de Talendig</td>\n",
       "      <td>Martes, jueves y viernes de 6:00 pm a 8:00 pm</td>\n",
       "      <td>0.0</td>\n",
       "      <td>1.0</td>\n",
       "      <td>0.0</td>\n",
       "      <td>0.0</td>\n",
       "      <td>1.0</td>\n",
       "    </tr>\n",
       "    <tr>\n",
       "      <th>4</th>\n",
       "      <td>Bootcamp en Desarrollo Web con Java</td>\n",
       "      <td>gmail.com</td>\n",
       "      <td>2900.0</td>\n",
       "      <td>Boca Chica</td>\n",
       "      <td>0</td>\n",
       "      <td>Transferencia</td>\n",
       "      <td>1</td>\n",
       "      <td>Crecimiento laboral</td>\n",
       "      <td>Maestros de Talendig</td>\n",
       "      <td>Martes, jueves y viernes de 6:00 pm a 8:00 pm</td>\n",
       "      <td>1.0</td>\n",
       "      <td>1.0</td>\n",
       "      <td>0.0</td>\n",
       "      <td>0.0</td>\n",
       "      <td>1.0</td>\n",
       "    </tr>\n",
       "  </tbody>\n",
       "</table>\n",
       "</div>"
      ],
      "text/plain": [
       "                         Entrenamiento      Email  Precios US  \\\n",
       "0    Bootcamp en Desarrollo Web con C#  gmail.com      2900.0   \n",
       "1    Bootcamp en Desarrollo Web con C#  gmail.com      2900.0   \n",
       "2    Bootcamp en Desarrollo Web con C#  gmail.com      2900.0   \n",
       "3  Bootcamp en Desarrollo Web con Java  gmail.com      2900.0   \n",
       "4  Bootcamp en Desarrollo Web con Java  gmail.com      2900.0   \n",
       "\n",
       "            Ubicacion  Incluye pasantia Metodo de pago  Estatus laboral  \\\n",
       "0   Distrito Nacional                 0  Transferencia                1   \n",
       "1  Santo Domingo Este                 0  Transferencia                1   \n",
       "2   Distrito Nacional                 0  Transferencia                1   \n",
       "3   Distrito Nacional                 0  Transferencia                0   \n",
       "4          Boca Chica                 0  Transferencia                1   \n",
       "\n",
       "  Razon de eleccion del bootcamp Proveedores de bootcamp  \\\n",
       "0            Crecimiento laboral    Maestros de Talendig   \n",
       "1            Crecimiento laboral    Maestros de Talendig   \n",
       "2            Crecimiento laboral    Maestros de Talendig   \n",
       "3            Crecimiento laboral    Maestros de Talendig   \n",
       "4            Crecimiento laboral    Maestros de Talendig   \n",
       "\n",
       "                         Horario de los bootcamps  Egresado_Egresado  \\\n",
       "0  Lunes, miércoles y viernes de 6:00pm a 8:00 pm                1.0   \n",
       "1  Lunes, miércoles y viernes de 6:00pm a 8:00 pm                0.0   \n",
       "2  Lunes, miércoles y viernes de 6:00pm a 8:00 pm                1.0   \n",
       "3   Martes, jueves y viernes de 6:00 pm a 8:00 pm                0.0   \n",
       "4   Martes, jueves y viernes de 6:00 pm a 8:00 pm                1.0   \n",
       "\n",
       "   Primer contacto_Instagram  Primer contacto_WhatsApp  \\\n",
       "0                        1.0                       0.0   \n",
       "1                        1.0                       0.0   \n",
       "2                        1.0                       0.0   \n",
       "3                        1.0                       0.0   \n",
       "4                        1.0                       0.0   \n",
       "\n",
       "   Condiciones de pago_Completo  Condiciones de pago_Cuotas  \n",
       "0                           0.0                         1.0  \n",
       "1                           0.0                         1.0  \n",
       "2                           0.0                         1.0  \n",
       "3                           0.0                         1.0  \n",
       "4                           0.0                         1.0  "
      ]
     },
     "execution_count": 8,
     "metadata": {},
     "output_type": "execute_result"
    }
   ],
   "source": [
    "df1=df.drop(columns=[\"Egresado_Activo\",\"Egresado_Retirado\"])\n",
    "df1.head()"
   ]
  },
  {
   "cell_type": "code",
   "execution_count": 9,
   "id": "ffa6333a-7cd5-4e88-8413-c7777f598ad6",
   "metadata": {},
   "outputs": [
    {
     "data": {
      "text/plain": [
       "(142, 15)"
      ]
     },
     "execution_count": 9,
     "metadata": {},
     "output_type": "execute_result"
    }
   ],
   "source": [
    "df1.shape"
   ]
  },
  {
   "cell_type": "code",
   "execution_count": 10,
   "id": "b3fe3845-0ded-4763-8898-006045a248a8",
   "metadata": {},
   "outputs": [
    {
     "data": {
      "text/plain": [
       "Entrenamiento                     0\n",
       "Email                             0\n",
       "Precios US                        0\n",
       "Ubicacion                         0\n",
       "Incluye pasantia                  0\n",
       "Metodo de pago                    0\n",
       "Estatus laboral                   0\n",
       "Razon de eleccion del bootcamp    0\n",
       "Proveedores de bootcamp           0\n",
       "Horario de los bootcamps          0\n",
       "Egresado_Egresado                 0\n",
       "Primer contacto_Instagram         0\n",
       "Primer contacto_WhatsApp          0\n",
       "Condiciones de pago_Completo      0\n",
       "Condiciones de pago_Cuotas        0\n",
       "dtype: int64"
      ]
     },
     "execution_count": 10,
     "metadata": {},
     "output_type": "execute_result"
    }
   ],
   "source": [
    "df1.isna().sum()"
   ]
  },
  {
   "cell_type": "markdown",
   "id": "bc023004-ee80-4968-9fd1-fe592ace9b22",
   "metadata": {
    "tags": []
   },
   "source": [
    "## TRAIN TEST SPLIT"
   ]
  },
  {
   "cell_type": "code",
   "execution_count": 11,
   "id": "52508f12-5936-4361-a361-dfa52becce68",
   "metadata": {},
   "outputs": [
    {
     "name": "stdout",
     "output_type": "stream",
     "text": [
      "Tamaño del conjunto de entrenamiento (X_train): 99\n",
      "Tamaño del conjunto de validación (X_val): 21\n",
      "Tamaño del conjunto de prueba (X_test): 22\n",
      "Tamaño del conjunto de entrenamiento (y_train): 99\n",
      "Tamaño del conjunto de validación (y_val): 21\n",
      "Tamaño del conjunto de prueba (y_test): 22\n"
     ]
    }
   ],
   "source": [
    "from sklearn.model_selection import train_test_split\n",
    "\n",
    "X = df1.drop('Egresado_Egresado', axis=1)\n",
    "y = df1['Egresado_Egresado']\n",
    "\n",
    "# Dividir los datos en conjuntos de entrenamiento, validación y prueba\n",
    "# Primero, dividimos en entrenamiento y prueba\n",
    "X_train, X_test, y_train, y_test = train_test_split(X, y, test_size=0.3, random_state=42, stratify=y)\n",
    "\n",
    "# Luego, dividimos el conjunto de prueba en validación y prueba\n",
    "X_val, X_test, y_val, y_test = train_test_split(X_test, y_test, test_size=0.5, random_state=42, stratify=y_test)\n",
    "\n",
    "# Verificar los tamaños de los conjuntos resultantes\n",
    "print(\"Tamaño del conjunto de entrenamiento (X_train):\", len(X_train))\n",
    "print(\"Tamaño del conjunto de validación (X_val):\", len(X_val))\n",
    "print(\"Tamaño del conjunto de prueba (X_test):\", len(X_test))\n",
    "print(\"Tamaño del conjunto de entrenamiento (y_train):\", len(y_train))\n",
    "print(\"Tamaño del conjunto de validación (y_val):\", len(y_val))\n",
    "print(\"Tamaño del conjunto de prueba (y_test):\", len(y_test))"
   ]
  },
  {
   "cell_type": "code",
   "execution_count": 12,
   "id": "8fcc0460-eb24-440a-96c3-61a1e6fea91c",
   "metadata": {},
   "outputs": [
    {
     "data": {
      "text/plain": [
       "(22, 14)"
      ]
     },
     "execution_count": 12,
     "metadata": {},
     "output_type": "execute_result"
    }
   ],
   "source": [
    "X_test.shape"
   ]
  },
  {
   "cell_type": "code",
   "execution_count": 13,
   "id": "6ff13a05-0c29-4364-8c7d-c8fc6418fb20",
   "metadata": {},
   "outputs": [
    {
     "data": {
      "text/plain": [
       "(99, 14)"
      ]
     },
     "execution_count": 13,
     "metadata": {},
     "output_type": "execute_result"
    }
   ],
   "source": [
    "X_train.shape"
   ]
  },
  {
   "cell_type": "markdown",
   "id": "972dc9a5-238e-4a15-ab40-d4b6e45d7c1a",
   "metadata": {
    "tags": []
   },
   "source": [
    "## PREPROCESING"
   ]
  },
  {
   "cell_type": "code",
   "execution_count": 14,
   "id": "370f0e20-ba86-4a5f-8dbb-9fca9d38f996",
   "metadata": {
    "tags": []
   },
   "outputs": [],
   "source": [
    "from sklearn.preprocessing import StandardScaler, OneHotEncoder\n",
    "from sklearn.impute import SimpleImputer\n",
    "from sklearn.compose import make_column_transformer, make_column_selector\n",
    "from sklearn.pipeline import make_pipeline"
   ]
  },
  {
   "cell_type": "code",
   "execution_count": 18,
   "id": "345ded80-dfb4-4f50-b8d9-8e3ade0d9bbc",
   "metadata": {
    "tags": []
   },
   "outputs": [],
   "source": [
    "#Selectores\n",
    "cat_selector = make_column_selector(dtype_include='object')\n",
    "num_selector = make_column_selector(dtype_include='number')\n",
    "#Escaladores\n",
    "scaler = StandardScaler()\n",
    "ohe = OneHotEncoder(handle_unknown='ignore')\n",
    "#Pipe\n",
    "num_tuple = (scaler, num_selector)\n",
    "cat_tuple = (ohe, cat_selector)\n",
    "#Transform\n",
    "col_transformer = make_column_transformer(num_tuple, cat_tuple, remainder = 'passthrough')\n",
    "#Fit\n",
    "col_transformer.fit(X_train)\n",
    "# transform train and test\n",
    "X_train_processed = col_transformer.transform(X_train)\n",
    "X_test_processed = col_transformer.transform(X_test)"
   ]
  },
  {
   "cell_type": "code",
   "execution_count": 19,
   "id": "5710885a-a3d1-489a-84ab-d0a4a9925b1e",
   "metadata": {},
   "outputs": [
    {
     "name": "stdout",
     "output_type": "stream",
     "text": [
      "0 missing values in training data\n",
      "0 missing values in testing data\n",
      "\n",
      "\n",
      "All data in X_train_processed are float64\n",
      "All data in X_test_processed are float64\n",
      "\n",
      "\n",
      "shape of data is (99, 42)\n",
      "\n",
      "\n"
     ]
    },
    {
     "data": {
      "text/plain": [
       "array([[ 0.4784976 , -0.50315461, -0.51887452, ...,  0.        ,\n",
       "         0.        ,  0.        ],\n",
       "       [ 0.4784976 , -0.50315461, -0.51887452, ...,  0.        ,\n",
       "         0.        ,  0.        ],\n",
       "       [ 0.4784976 , -0.50315461, -0.51887452, ...,  0.        ,\n",
       "         0.        ,  0.        ],\n",
       "       ...,\n",
       "       [ 0.4784976 , -0.50315461, -0.51887452, ...,  0.        ,\n",
       "         0.        ,  0.        ],\n",
       "       [ 0.4784976 , -0.50315461,  1.92724822, ...,  0.        ,\n",
       "         0.        ,  0.        ],\n",
       "       [ 0.4784976 , -0.50315461,  1.92724822, ...,  1.        ,\n",
       "         0.        ,  0.        ]])"
      ]
     },
     "execution_count": 19,
     "metadata": {},
     "output_type": "execute_result"
    }
   ],
   "source": [
    "# Comprobacion\n",
    "print(np.isnan(X_train_processed).sum().sum(), 'missing values in training data')\n",
    "print(np.isnan(X_test_processed).sum().sum(), 'missing values in testing data')\n",
    "print('\\n')\n",
    "print('All data in X_train_processed are', X_train_processed.dtype)\n",
    "print('All data in X_test_processed are', X_test_processed.dtype)\n",
    "print('\\n')\n",
    "print('shape of data is', X_train_processed.shape)\n",
    "print('\\n')\n",
    "X_train_processed"
   ]
  },
  {
   "cell_type": "markdown",
   "id": "2b82bac5-3f4d-43f1-943f-b7a4dbe50a9e",
   "metadata": {
    "tags": []
   },
   "source": [
    "### Modelos Regresion Logistica"
   ]
  },
  {
   "cell_type": "code",
   "execution_count": 24,
   "id": "3334da13-0144-43b5-ba06-418c519d41f2",
   "metadata": {},
   "outputs": [],
   "source": [
    "from sklearn.linear_model import LinearRegression\n",
    "from sklearn.linear_model import LogisticRegression\n",
    "import matplotlib.pyplot as plt"
   ]
  },
  {
   "cell_type": "code",
   "execution_count": 25,
   "id": "65a8d437-8024-440f-afc6-96a1f0399bc2",
   "metadata": {},
   "outputs": [
    {
     "name": "stdout",
     "output_type": "stream",
     "text": [
      "0.8585858585858586\n",
      "0.7727272727272727\n"
     ]
    },
    {
     "name": "stderr",
     "output_type": "stream",
     "text": [
      "/opt/conda/lib/python3.7/site-packages/sklearn/linear_model/_logistic.py:818: ConvergenceWarning: lbfgs failed to converge (status=1):\n",
      "STOP: TOTAL NO. of ITERATIONS REACHED LIMIT.\n",
      "\n",
      "Increase the number of iterations (max_iter) or scale the data as shown in:\n",
      "    https://scikit-learn.org/stable/modules/preprocessing.html\n",
      "Please also refer to the documentation for alternative solver options:\n",
      "    https://scikit-learn.org/stable/modules/linear_model.html#logistic-regression\n",
      "  extra_warning_msg=_LOGISTIC_SOLVER_CONVERGENCE_MSG,\n"
     ]
    }
   ],
   "source": [
    "# Make an instance of the model\n",
    "logreg = LogisticRegression(C = 1000)\n",
    "# Create pipeline\n",
    "logreg_pipe = make_pipeline(logreg)\n",
    "# Training the model on the data, storing the information learned from the data\n",
    "# Model is learning the relationship between X and y \n",
    "logreg_pipe.fit(X_train_processed,y_train)\n",
    "#Score\n",
    "print(logreg_pipe.score(X_train_processed, y_train))\n",
    "print(logreg_pipe.score(X_test_processed, y_test))"
   ]
  },
  {
   "cell_type": "code",
   "execution_count": 31,
   "id": "68c62352-74b3-491f-983a-8b1af9adbd73",
   "metadata": {},
   "outputs": [
    {
     "data": {
      "text/plain": [
       "{0.0001: 0.18181818181818182,\n",
       " 0.001: 0.18181818181818182,\n",
       " 0.01: 0.18181818181818182,\n",
       " 0.1: 0.8181818181818182,\n",
       " 1: 0.8181818181818182,\n",
       " 10: 0.8181818181818182,\n",
       " 100: 0.7727272727272727,\n",
       " 1000: 0.7727272727272727}"
      ]
     },
     "execution_count": 31,
     "metadata": {},
     "output_type": "execute_result"
    },
    {
     "data": {
      "image/png": "[encoded data removed]",
      "text/plain": [
       "<Figure size 640x480 with 1 Axes>"
      ]
     },
     "metadata": {},
     "output_type": "display_data"
    }
   ],
   "source": [
    "# create a list of c values and empty lists for scores\n",
    "c_values = [0.0001, 0.001, 0.01, 0.1, 1, 10, 100, 1000]\n",
    "train_scores = []\n",
    "test_scores = []\n",
    "#iterative over the c values\n",
    "for c in c_values:\n",
    " \n",
    "  # instantiate a model with each value of c and fit it on the data\n",
    "  log_reg = LogisticRegression(C=c, max_iter=1000, solver='liblinear', penalty='l1')\n",
    "  log_reg_pipe = make_pipeline(log_reg)\n",
    "  log_reg_pipe.fit(X_train_processed,y_train)\n",
    " \n",
    "  # add the training and testing scores to our scores lists\n",
    "  train_scores.append(log_reg_pipe.score(X_train_processed, y_train))\n",
    "  test_scores.append(log_reg_pipe.score(X_test_processed, y_test))\n",
    " \n",
    "#plot the change in accuracy as we change the value of C\n",
    "fig, ax = plt.subplots(1,1)\n",
    "ax.plot(c_values, train_scores, label='Training Accuracy')\n",
    "ax.plot(c_values, test_scores, label='Testing Accuracy')\n",
    "ax.set_xticks(c_values)\n",
    "ax.set_title('Change in accuracy over C values for l1 regularization')\n",
    "ax.legend();\n",
    " \n",
    "#set the x axis to a logarithmic scale to show the values of C in even intervals\n",
    "ax.set_xscale('log')\n",
    "# print a dictionary of values of C and accuracy scores\n",
    "{c:score for c, score in zip(c_values, test_scores)}"
   ]
  },
  {
   "cell_type": "code",
   "execution_count": 32,
   "id": "7d439e2e-a59d-45cd-b99c-cb38b8004893",
   "metadata": {},
   "outputs": [
    {
     "data": {
      "text/plain": [
       "{0.0001: 0.8181818181818182,\n",
       " 0.001: 0.8181818181818182,\n",
       " 0.01: 0.8181818181818182,\n",
       " 0.1: 0.8181818181818182,\n",
       " 1: 0.8181818181818182,\n",
       " 10: 0.8181818181818182,\n",
       " 100: 0.8181818181818182,\n",
       " 1000: 0.7727272727272727}"
      ]
     },
     "execution_count": 32,
     "metadata": {},
     "output_type": "execute_result"
    },
    {
     "data": {
      "image/png": "[encoded data removed]",
      "text/plain": [
       "<Figure size 640x480 with 1 Axes>"
      ]
     },
     "metadata": {},
     "output_type": "display_data"
    }
   ],
   "source": [
    "# create a list of c values and empty lists for scores\n",
    "c_values = [0.0001, 0.001, 0.01, 0.1, 1, 10, 100, 1000]\n",
    "train_scores = []\n",
    "test_scores = []\n",
    "#iterative over the c values\n",
    "for c in c_values:\n",
    " \n",
    "  # instantiate a model with each value of c and fit it on the data\n",
    "  log_reg = LogisticRegression(C=c, max_iter=1000, solver='liblinear', penalty='l2')\n",
    "  log_reg_pipe = make_pipeline(log_reg)\n",
    "  log_reg_pipe.fit(X_train_processed,y_train)\n",
    " \n",
    "  # add the training and testing scores to our scores lists\n",
    "  train_scores.append(log_reg_pipe.score(X_train_processed, y_train))\n",
    "  test_scores.append(log_reg_pipe.score(X_test_processed, y_test))\n",
    " \n",
    "#plot the change in accuracy as we change the value of C\n",
    "fig, ax = plt.subplots(1,1)\n",
    "ax.plot(c_values, train_scores, label='Training Accuracy')\n",
    "ax.plot(c_values, test_scores, label='Testing Accuracy')\n",
    "ax.set_xticks(c_values)\n",
    "ax.set_title('Change in accuracy over C values for l2 regularization')\n",
    "ax.legend()\n",
    " \n",
    "#set the x axis to a logarithmic scale to show the values of C in even intervals\n",
    "ax.set_xscale('log')\n",
    "# print a dictionary of values of C and accuracy scores\n",
    "{c:score for c, score in zip(c_values, test_scores)}"
   ]
  },
  {
   "cell_type": "code",
   "execution_count": null,
   "id": "f1945705-f6e0-4751-af94-5e787be0b53d",
   "metadata": {},
   "outputs": [],
   "source": []
  },
  {
   "cell_type": "code",
   "execution_count": 34,
   "id": "5b3361ec-d017-4164-a9b8-e43b3af4335d",
   "metadata": {},
   "outputs": [
    {
     "name": "stdout",
     "output_type": "stream",
     "text": [
      "0.8282828282828283\n",
      "0.8181818181818182\n"
     ]
    }
   ],
   "source": [
    "# Make an instance of the model\n",
    "logreg = LogisticRegression(C=0.1, max_iter=1000, solver='liblinear', penalty='l1')\n",
    "# Instantiate Scaler\n",
    "scaler = StandardScaler()\n",
    "# Create pipeline\n",
    "logreg_pipe = make_pipeline(logreg)\n",
    "# Training the model on the data, storing the information learned from the data\n",
    "# Model is learning the relationship between X and y \n",
    "logreg_pipe.fit(X_train_processed,y_train)\n",
    "#Score\n",
    "print(logreg_pipe.score(X_train_processed, y_train))\n",
    "print(logreg_pipe.score(X_test_processed, y_test))"
   ]
  },
  {
   "cell_type": "code",
   "execution_count": null,
   "id": "df3105d2-50ae-41bf-968b-18e0097cd2d2",
   "metadata": {},
   "outputs": [],
   "source": []
  }
 ],
 "metadata": {
  "environment": {
   "kernel": "python3",
   "name": "common-cpu.m107",
   "type": "gcloud",
   "uri": "gcr.io/deeplearning-platform-release/base-cpu:m107"
  },
  "kernelspec": {
   "display_name": "Python 3",
   "language": "python",
   "name": "python3"
  },
  "language_info": {
   "codemirror_mode": {
    "name": "ipython",
    "version": 3
   },
   "file_extension": ".py",
   "mimetype": "text/x-python",
   "name": "python",
   "nbconvert_exporter": "python",
   "pygments_lexer": "ipython3",
   "version": "3.7.12"
  }
 },
 "nbformat": 4,
 "nbformat_minor": 5
}
