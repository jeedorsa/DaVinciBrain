{
 "cells": [
  {
   "cell_type": "markdown",
   "id": "4c4a0279-6cd0-4c3b-99d6-c630dae874fb",
   "metadata": {
    "tags": []
   },
   "source": [
    "## DATA IMPORT"
   ]
  },
  {
   "cell_type": "code",
   "execution_count": 22,
   "id": "24483f9a-7280-4353-93ea-faa46cb0a00a",
   "metadata": {},
   "outputs": [],
   "source": [
    "import pandas as pd\n",
    "import numpy as np\n",
    "from sklearn.model_selection import train_test_split\n",
    "from sklearn.compose import make_column_selector, make_column_transformer\n",
    "from sklearn.ensemble import RandomForestClassifier\n",
    "from sklearn.preprocessing import StandardScaler,OneHotEncoder\n",
    "from sklearn.neighbors import KNeighborsRegressor\n",
    "from sklearn.ensemble import RandomForestRegressor\n",
    "from sklearn.metrics import mean_absolute_error, mean_squared_error,r2_score, accuracy_score"
   ]
  },
  {
   "cell_type": "code",
   "execution_count": 23,
   "id": "a5da1be5-b10c-4bd8-816e-99e0a106d532",
   "metadata": {},
   "outputs": [
    {
     "data": {
      "text/html": [
       "<div>\n",
       "<style scoped>\n",
       "    .dataframe tbody tr th:only-of-type {\n",
       "        vertical-align: middle;\n",
       "    }\n",
       "\n",
       "    .dataframe tbody tr th {\n",
       "        vertical-align: top;\n",
       "    }\n",
       "\n",
       "    .dataframe thead th {\n",
       "        text-align: right;\n",
       "    }\n",
       "</style>\n",
       "<table border=\"1\" class=\"dataframe\">\n",
       "  <thead>\n",
       "    <tr style=\"text-align: right;\">\n",
       "      <th></th>\n",
       "      <th>Entrenamiento</th>\n",
       "      <th>Email</th>\n",
       "      <th>Precios US</th>\n",
       "      <th>Ubicacion</th>\n",
       "      <th>Incluye pasantia</th>\n",
       "      <th>Metodo de pago</th>\n",
       "      <th>Estatus laboral</th>\n",
       "      <th>Razon de eleccion del bootcamp</th>\n",
       "      <th>Proveedores de bootcamp</th>\n",
       "      <th>Horario de los bootcamps</th>\n",
       "      <th>Egresado_Activo</th>\n",
       "      <th>Egresado_Egresado</th>\n",
       "      <th>Egresado_Retirado</th>\n",
       "      <th>Primer contacto_Instagram</th>\n",
       "      <th>Primer contacto_WhatsApp</th>\n",
       "      <th>Condiciones de pago_Completo</th>\n",
       "      <th>Condiciones de pago_Cuotas</th>\n",
       "    </tr>\n",
       "  </thead>\n",
       "  <tbody>\n",
       "    <tr>\n",
       "      <th>0</th>\n",
       "      <td>Bootcamp en Desarrollo Web con C#</td>\n",
       "      <td>gmail.com</td>\n",
       "      <td>2900.0</td>\n",
       "      <td>Distrito Nacional</td>\n",
       "      <td>0</td>\n",
       "      <td>Transferencia</td>\n",
       "      <td>1</td>\n",
       "      <td>Crecimiento laboral</td>\n",
       "      <td>Maestros de Talendig</td>\n",
       "      <td>Lunes, miércoles y viernes de 6:00pm a 8:00 pm</td>\n",
       "      <td>0.0</td>\n",
       "      <td>1.0</td>\n",
       "      <td>0.0</td>\n",
       "      <td>1.0</td>\n",
       "      <td>0.0</td>\n",
       "      <td>0.0</td>\n",
       "      <td>1.0</td>\n",
       "    </tr>\n",
       "    <tr>\n",
       "      <th>1</th>\n",
       "      <td>Bootcamp en Desarrollo Web con C#</td>\n",
       "      <td>gmail.com</td>\n",
       "      <td>2900.0</td>\n",
       "      <td>Santo Domingo Este</td>\n",
       "      <td>0</td>\n",
       "      <td>Transferencia</td>\n",
       "      <td>1</td>\n",
       "      <td>Crecimiento laboral</td>\n",
       "      <td>Maestros de Talendig</td>\n",
       "      <td>Lunes, miércoles y viernes de 6:00pm a 8:00 pm</td>\n",
       "      <td>0.0</td>\n",
       "      <td>0.0</td>\n",
       "      <td>1.0</td>\n",
       "      <td>1.0</td>\n",
       "      <td>0.0</td>\n",
       "      <td>0.0</td>\n",
       "      <td>1.0</td>\n",
       "    </tr>\n",
       "    <tr>\n",
       "      <th>2</th>\n",
       "      <td>Bootcamp en Desarrollo Web con C#</td>\n",
       "      <td>gmail.com</td>\n",
       "      <td>2900.0</td>\n",
       "      <td>Distrito Nacional</td>\n",
       "      <td>0</td>\n",
       "      <td>Transferencia</td>\n",
       "      <td>1</td>\n",
       "      <td>Crecimiento laboral</td>\n",
       "      <td>Maestros de Talendig</td>\n",
       "      <td>Lunes, miércoles y viernes de 6:00pm a 8:00 pm</td>\n",
       "      <td>0.0</td>\n",
       "      <td>1.0</td>\n",
       "      <td>0.0</td>\n",
       "      <td>1.0</td>\n",
       "      <td>0.0</td>\n",
       "      <td>0.0</td>\n",
       "      <td>1.0</td>\n",
       "    </tr>\n",
       "    <tr>\n",
       "      <th>3</th>\n",
       "      <td>Bootcamp en Desarrollo Web con Java</td>\n",
       "      <td>gmail.com</td>\n",
       "      <td>2900.0</td>\n",
       "      <td>Distrito Nacional</td>\n",
       "      <td>0</td>\n",
       "      <td>Transferencia</td>\n",
       "      <td>0</td>\n",
       "      <td>Crecimiento laboral</td>\n",
       "      <td>Maestros de Talendig</td>\n",
       "      <td>Martes, jueves y viernes de 6:00 pm a 8:00 pm</td>\n",
       "      <td>0.0</td>\n",
       "      <td>0.0</td>\n",
       "      <td>1.0</td>\n",
       "      <td>1.0</td>\n",
       "      <td>0.0</td>\n",
       "      <td>0.0</td>\n",
       "      <td>1.0</td>\n",
       "    </tr>\n",
       "    <tr>\n",
       "      <th>4</th>\n",
       "      <td>Bootcamp en Desarrollo Web con Java</td>\n",
       "      <td>gmail.com</td>\n",
       "      <td>2900.0</td>\n",
       "      <td>Boca Chica</td>\n",
       "      <td>0</td>\n",
       "      <td>Transferencia</td>\n",
       "      <td>1</td>\n",
       "      <td>Crecimiento laboral</td>\n",
       "      <td>Maestros de Talendig</td>\n",
       "      <td>Martes, jueves y viernes de 6:00 pm a 8:00 pm</td>\n",
       "      <td>0.0</td>\n",
       "      <td>1.0</td>\n",
       "      <td>0.0</td>\n",
       "      <td>1.0</td>\n",
       "      <td>0.0</td>\n",
       "      <td>0.0</td>\n",
       "      <td>1.0</td>\n",
       "    </tr>\n",
       "    <tr>\n",
       "      <th>...</th>\n",
       "      <td>...</td>\n",
       "      <td>...</td>\n",
       "      <td>...</td>\n",
       "      <td>...</td>\n",
       "      <td>...</td>\n",
       "      <td>...</td>\n",
       "      <td>...</td>\n",
       "      <td>...</td>\n",
       "      <td>...</td>\n",
       "      <td>...</td>\n",
       "      <td>...</td>\n",
       "      <td>...</td>\n",
       "      <td>...</td>\n",
       "      <td>...</td>\n",
       "      <td>...</td>\n",
       "      <td>...</td>\n",
       "      <td>...</td>\n",
       "    </tr>\n",
       "    <tr>\n",
       "      <th>155</th>\n",
       "      <td>Bootcamp en Desarrollo Web</td>\n",
       "      <td>gmail.com</td>\n",
       "      <td>2900.0</td>\n",
       "      <td>Santo Domingo Este</td>\n",
       "      <td>0</td>\n",
       "      <td>Transferencia</td>\n",
       "      <td>0</td>\n",
       "      <td>Aprender algo nuevo</td>\n",
       "      <td>Maestros de Talendig</td>\n",
       "      <td>Luner, miércoles y viernes de 8: pm a 10:00 pm</td>\n",
       "      <td>1.0</td>\n",
       "      <td>0.0</td>\n",
       "      <td>0.0</td>\n",
       "      <td>1.0</td>\n",
       "      <td>0.0</td>\n",
       "      <td>0.0</td>\n",
       "      <td>1.0</td>\n",
       "    </tr>\n",
       "    <tr>\n",
       "      <th>156</th>\n",
       "      <td>Bootcamp en Desarrollo Web</td>\n",
       "      <td>gmail.com</td>\n",
       "      <td>2900.0</td>\n",
       "      <td>Santo Domingo Este</td>\n",
       "      <td>0</td>\n",
       "      <td>Transferencia</td>\n",
       "      <td>0</td>\n",
       "      <td>Aprender algo nuevo</td>\n",
       "      <td>Maestros de Talendig</td>\n",
       "      <td>Luner, miércoles y viernes de 8: pm a 10:00 pm</td>\n",
       "      <td>1.0</td>\n",
       "      <td>0.0</td>\n",
       "      <td>0.0</td>\n",
       "      <td>1.0</td>\n",
       "      <td>0.0</td>\n",
       "      <td>0.0</td>\n",
       "      <td>1.0</td>\n",
       "    </tr>\n",
       "    <tr>\n",
       "      <th>157</th>\n",
       "      <td>Bootcamp en Data Science y Machine Learning en...</td>\n",
       "      <td>gmail.com</td>\n",
       "      <td>2900.0</td>\n",
       "      <td>Distrito Nacional</td>\n",
       "      <td>1</td>\n",
       "      <td>Transferencia</td>\n",
       "      <td>0</td>\n",
       "      <td>Aprender algo nuevo</td>\n",
       "      <td>Maestros de Talendig</td>\n",
       "      <td>Martes, Jueves y Sábados</td>\n",
       "      <td>1.0</td>\n",
       "      <td>0.0</td>\n",
       "      <td>0.0</td>\n",
       "      <td>0.0</td>\n",
       "      <td>1.0</td>\n",
       "      <td>0.0</td>\n",
       "      <td>1.0</td>\n",
       "    </tr>\n",
       "    <tr>\n",
       "      <th>158</th>\n",
       "      <td>Bootcamp en Data Science y Machine Learning en...</td>\n",
       "      <td>hotmail.com</td>\n",
       "      <td>2900.0</td>\n",
       "      <td>Distrito Nacional</td>\n",
       "      <td>1</td>\n",
       "      <td>Transferencia</td>\n",
       "      <td>0</td>\n",
       "      <td>Aprender algo nuevo</td>\n",
       "      <td>Maestros de Talendig</td>\n",
       "      <td>Martes, Jueves y Sábados</td>\n",
       "      <td>1.0</td>\n",
       "      <td>0.0</td>\n",
       "      <td>0.0</td>\n",
       "      <td>0.0</td>\n",
       "      <td>1.0</td>\n",
       "      <td>0.0</td>\n",
       "      <td>1.0</td>\n",
       "    </tr>\n",
       "    <tr>\n",
       "      <th>159</th>\n",
       "      <td>Bootcamp en Data Science y Machine Learning en...</td>\n",
       "      <td>hotmail.com</td>\n",
       "      <td>2900.0</td>\n",
       "      <td>Distrito Nacional</td>\n",
       "      <td>1</td>\n",
       "      <td>Transferencia</td>\n",
       "      <td>0</td>\n",
       "      <td>Aprender algo nuevo</td>\n",
       "      <td>Maestros de Talendig</td>\n",
       "      <td>Martes, Jueves y Sábados</td>\n",
       "      <td>1.0</td>\n",
       "      <td>0.0</td>\n",
       "      <td>0.0</td>\n",
       "      <td>0.0</td>\n",
       "      <td>1.0</td>\n",
       "      <td>0.0</td>\n",
       "      <td>1.0</td>\n",
       "    </tr>\n",
       "  </tbody>\n",
       "</table>\n",
       "<p>160 rows × 17 columns</p>\n",
       "</div>"
      ],
      "text/plain": [
       "                                         Entrenamiento        Email  \\\n",
       "0                    Bootcamp en Desarrollo Web con C#    gmail.com   \n",
       "1                    Bootcamp en Desarrollo Web con C#    gmail.com   \n",
       "2                    Bootcamp en Desarrollo Web con C#    gmail.com   \n",
       "3                  Bootcamp en Desarrollo Web con Java    gmail.com   \n",
       "4                  Bootcamp en Desarrollo Web con Java    gmail.com   \n",
       "..                                                 ...          ...   \n",
       "155                         Bootcamp en Desarrollo Web    gmail.com   \n",
       "156                         Bootcamp en Desarrollo Web    gmail.com   \n",
       "157  Bootcamp en Data Science y Machine Learning en...    gmail.com   \n",
       "158  Bootcamp en Data Science y Machine Learning en...  hotmail.com   \n",
       "159  Bootcamp en Data Science y Machine Learning en...  hotmail.com   \n",
       "\n",
       "     Precios US           Ubicacion  Incluye pasantia Metodo de pago  \\\n",
       "0        2900.0   Distrito Nacional                 0  Transferencia   \n",
       "1        2900.0  Santo Domingo Este                 0  Transferencia   \n",
       "2        2900.0   Distrito Nacional                 0  Transferencia   \n",
       "3        2900.0   Distrito Nacional                 0  Transferencia   \n",
       "4        2900.0          Boca Chica                 0  Transferencia   \n",
       "..          ...                 ...               ...            ...   \n",
       "155      2900.0  Santo Domingo Este                 0  Transferencia   \n",
       "156      2900.0  Santo Domingo Este                 0  Transferencia   \n",
       "157      2900.0   Distrito Nacional                 1  Transferencia   \n",
       "158      2900.0   Distrito Nacional                 1  Transferencia   \n",
       "159      2900.0   Distrito Nacional                 1  Transferencia   \n",
       "\n",
       "     Estatus laboral Razon de eleccion del bootcamp Proveedores de bootcamp  \\\n",
       "0                  1            Crecimiento laboral    Maestros de Talendig   \n",
       "1                  1            Crecimiento laboral    Maestros de Talendig   \n",
       "2                  1            Crecimiento laboral    Maestros de Talendig   \n",
       "3                  0            Crecimiento laboral    Maestros de Talendig   \n",
       "4                  1            Crecimiento laboral    Maestros de Talendig   \n",
       "..               ...                            ...                     ...   \n",
       "155                0            Aprender algo nuevo    Maestros de Talendig   \n",
       "156                0            Aprender algo nuevo    Maestros de Talendig   \n",
       "157                0            Aprender algo nuevo    Maestros de Talendig   \n",
       "158                0            Aprender algo nuevo    Maestros de Talendig   \n",
       "159                0            Aprender algo nuevo    Maestros de Talendig   \n",
       "\n",
       "                           Horario de los bootcamps  Egresado_Activo  \\\n",
       "0    Lunes, miércoles y viernes de 6:00pm a 8:00 pm              0.0   \n",
       "1    Lunes, miércoles y viernes de 6:00pm a 8:00 pm              0.0   \n",
       "2    Lunes, miércoles y viernes de 6:00pm a 8:00 pm              0.0   \n",
       "3     Martes, jueves y viernes de 6:00 pm a 8:00 pm              0.0   \n",
       "4     Martes, jueves y viernes de 6:00 pm a 8:00 pm              0.0   \n",
       "..                                              ...              ...   \n",
       "155  Luner, miércoles y viernes de 8: pm a 10:00 pm              1.0   \n",
       "156  Luner, miércoles y viernes de 8: pm a 10:00 pm              1.0   \n",
       "157                        Martes, Jueves y Sábados              1.0   \n",
       "158                        Martes, Jueves y Sábados              1.0   \n",
       "159                        Martes, Jueves y Sábados              1.0   \n",
       "\n",
       "     Egresado_Egresado  Egresado_Retirado  Primer contacto_Instagram  \\\n",
       "0                  1.0                0.0                        1.0   \n",
       "1                  0.0                1.0                        1.0   \n",
       "2                  1.0                0.0                        1.0   \n",
       "3                  0.0                1.0                        1.0   \n",
       "4                  1.0                0.0                        1.0   \n",
       "..                 ...                ...                        ...   \n",
       "155                0.0                0.0                        1.0   \n",
       "156                0.0                0.0                        1.0   \n",
       "157                0.0                0.0                        0.0   \n",
       "158                0.0                0.0                        0.0   \n",
       "159                0.0                0.0                        0.0   \n",
       "\n",
       "     Primer contacto_WhatsApp  Condiciones de pago_Completo  \\\n",
       "0                         0.0                           0.0   \n",
       "1                         0.0                           0.0   \n",
       "2                         0.0                           0.0   \n",
       "3                         0.0                           0.0   \n",
       "4                         0.0                           0.0   \n",
       "..                        ...                           ...   \n",
       "155                       0.0                           0.0   \n",
       "156                       0.0                           0.0   \n",
       "157                       1.0                           0.0   \n",
       "158                       1.0                           0.0   \n",
       "159                       1.0                           0.0   \n",
       "\n",
       "     Condiciones de pago_Cuotas  \n",
       "0                           1.0  \n",
       "1                           1.0  \n",
       "2                           1.0  \n",
       "3                           1.0  \n",
       "4                           1.0  \n",
       "..                          ...  \n",
       "155                         1.0  \n",
       "156                         1.0  \n",
       "157                         1.0  \n",
       "158                         1.0  \n",
       "159                         1.0  \n",
       "\n",
       "[160 rows x 17 columns]"
      ]
     },
     "execution_count": 23,
     "metadata": {},
     "output_type": "execute_result"
    }
   ],
   "source": [
    "df = pd.read_csv('address_cleaned.csv')\n",
    "df"
   ]
  },
  {
   "cell_type": "code",
   "execution_count": 24,
   "id": "8702c9f6-4ea3-4aee-a197-28ae44b3d49e",
   "metadata": {},
   "outputs": [
    {
     "data": {
      "text/plain": [
       "0.0    142\n",
       "1.0     18\n",
       "Name: Egresado_Activo, dtype: int64"
      ]
     },
     "execution_count": 24,
     "metadata": {},
     "output_type": "execute_result"
    }
   ],
   "source": [
    "df[\"Egresado_Activo\"].value_counts()"
   ]
  },
  {
   "cell_type": "markdown",
   "id": "38bae1c2-09e0-4e50-b420-dc05bbd78c0a",
   "metadata": {},
   "source": [
    "Se eliminara la columna de egresados activos porque no existe una correlacion con el la columna objetivo. "
   ]
  },
  {
   "cell_type": "code",
   "execution_count": 25,
   "id": "558a8388-5601-4041-93e2-8f45bf025821",
   "metadata": {},
   "outputs": [],
   "source": [
    "df = df.drop(df.loc[df[\"Egresado_Activo\"] == 1].index)"
   ]
  },
  {
   "cell_type": "code",
   "execution_count": 26,
   "id": "a0cc8af7-7858-4974-8d8f-d324d82514fe",
   "metadata": {},
   "outputs": [
    {
     "data": {
      "text/plain": [
       "0.0    142\n",
       "Name: Egresado_Activo, dtype: int64"
      ]
     },
     "execution_count": 26,
     "metadata": {},
     "output_type": "execute_result"
    }
   ],
   "source": [
    "df[\"Egresado_Activo\"].value_counts()"
   ]
  },
  {
   "cell_type": "code",
   "execution_count": 27,
   "id": "5c1d3b11-5877-45f3-8176-a560357a049a",
   "metadata": {},
   "outputs": [
    {
     "data": {
      "text/html": [
       "<div>\n",
       "<style scoped>\n",
       "    .dataframe tbody tr th:only-of-type {\n",
       "        vertical-align: middle;\n",
       "    }\n",
       "\n",
       "    .dataframe tbody tr th {\n",
       "        vertical-align: top;\n",
       "    }\n",
       "\n",
       "    .dataframe thead th {\n",
       "        text-align: right;\n",
       "    }\n",
       "</style>\n",
       "<table border=\"1\" class=\"dataframe\">\n",
       "  <thead>\n",
       "    <tr style=\"text-align: right;\">\n",
       "      <th></th>\n",
       "      <th>Entrenamiento</th>\n",
       "      <th>Email</th>\n",
       "      <th>Precios US</th>\n",
       "      <th>Ubicacion</th>\n",
       "      <th>Incluye pasantia</th>\n",
       "      <th>Metodo de pago</th>\n",
       "      <th>Estatus laboral</th>\n",
       "      <th>Razon de eleccion del bootcamp</th>\n",
       "      <th>Proveedores de bootcamp</th>\n",
       "      <th>Horario de los bootcamps</th>\n",
       "      <th>Egresado_Egresado</th>\n",
       "      <th>Primer contacto_Instagram</th>\n",
       "      <th>Primer contacto_WhatsApp</th>\n",
       "      <th>Condiciones de pago_Completo</th>\n",
       "      <th>Condiciones de pago_Cuotas</th>\n",
       "    </tr>\n",
       "  </thead>\n",
       "  <tbody>\n",
       "    <tr>\n",
       "      <th>0</th>\n",
       "      <td>Bootcamp en Desarrollo Web con C#</td>\n",
       "      <td>gmail.com</td>\n",
       "      <td>2900.0</td>\n",
       "      <td>Distrito Nacional</td>\n",
       "      <td>0</td>\n",
       "      <td>Transferencia</td>\n",
       "      <td>1</td>\n",
       "      <td>Crecimiento laboral</td>\n",
       "      <td>Maestros de Talendig</td>\n",
       "      <td>Lunes, miércoles y viernes de 6:00pm a 8:00 pm</td>\n",
       "      <td>1.0</td>\n",
       "      <td>1.0</td>\n",
       "      <td>0.0</td>\n",
       "      <td>0.0</td>\n",
       "      <td>1.0</td>\n",
       "    </tr>\n",
       "    <tr>\n",
       "      <th>1</th>\n",
       "      <td>Bootcamp en Desarrollo Web con C#</td>\n",
       "      <td>gmail.com</td>\n",
       "      <td>2900.0</td>\n",
       "      <td>Santo Domingo Este</td>\n",
       "      <td>0</td>\n",
       "      <td>Transferencia</td>\n",
       "      <td>1</td>\n",
       "      <td>Crecimiento laboral</td>\n",
       "      <td>Maestros de Talendig</td>\n",
       "      <td>Lunes, miércoles y viernes de 6:00pm a 8:00 pm</td>\n",
       "      <td>0.0</td>\n",
       "      <td>1.0</td>\n",
       "      <td>0.0</td>\n",
       "      <td>0.0</td>\n",
       "      <td>1.0</td>\n",
       "    </tr>\n",
       "    <tr>\n",
       "      <th>2</th>\n",
       "      <td>Bootcamp en Desarrollo Web con C#</td>\n",
       "      <td>gmail.com</td>\n",
       "      <td>2900.0</td>\n",
       "      <td>Distrito Nacional</td>\n",
       "      <td>0</td>\n",
       "      <td>Transferencia</td>\n",
       "      <td>1</td>\n",
       "      <td>Crecimiento laboral</td>\n",
       "      <td>Maestros de Talendig</td>\n",
       "      <td>Lunes, miércoles y viernes de 6:00pm a 8:00 pm</td>\n",
       "      <td>1.0</td>\n",
       "      <td>1.0</td>\n",
       "      <td>0.0</td>\n",
       "      <td>0.0</td>\n",
       "      <td>1.0</td>\n",
       "    </tr>\n",
       "    <tr>\n",
       "      <th>3</th>\n",
       "      <td>Bootcamp en Desarrollo Web con Java</td>\n",
       "      <td>gmail.com</td>\n",
       "      <td>2900.0</td>\n",
       "      <td>Distrito Nacional</td>\n",
       "      <td>0</td>\n",
       "      <td>Transferencia</td>\n",
       "      <td>0</td>\n",
       "      <td>Crecimiento laboral</td>\n",
       "      <td>Maestros de Talendig</td>\n",
       "      <td>Martes, jueves y viernes de 6:00 pm a 8:00 pm</td>\n",
       "      <td>0.0</td>\n",
       "      <td>1.0</td>\n",
       "      <td>0.0</td>\n",
       "      <td>0.0</td>\n",
       "      <td>1.0</td>\n",
       "    </tr>\n",
       "    <tr>\n",
       "      <th>4</th>\n",
       "      <td>Bootcamp en Desarrollo Web con Java</td>\n",
       "      <td>gmail.com</td>\n",
       "      <td>2900.0</td>\n",
       "      <td>Boca Chica</td>\n",
       "      <td>0</td>\n",
       "      <td>Transferencia</td>\n",
       "      <td>1</td>\n",
       "      <td>Crecimiento laboral</td>\n",
       "      <td>Maestros de Talendig</td>\n",
       "      <td>Martes, jueves y viernes de 6:00 pm a 8:00 pm</td>\n",
       "      <td>1.0</td>\n",
       "      <td>1.0</td>\n",
       "      <td>0.0</td>\n",
       "      <td>0.0</td>\n",
       "      <td>1.0</td>\n",
       "    </tr>\n",
       "  </tbody>\n",
       "</table>\n",
       "</div>"
      ],
      "text/plain": [
       "                         Entrenamiento      Email  Precios US  \\\n",
       "0    Bootcamp en Desarrollo Web con C#  gmail.com      2900.0   \n",
       "1    Bootcamp en Desarrollo Web con C#  gmail.com      2900.0   \n",
       "2    Bootcamp en Desarrollo Web con C#  gmail.com      2900.0   \n",
       "3  Bootcamp en Desarrollo Web con Java  gmail.com      2900.0   \n",
       "4  Bootcamp en Desarrollo Web con Java  gmail.com      2900.0   \n",
       "\n",
       "            Ubicacion  Incluye pasantia Metodo de pago  Estatus laboral  \\\n",
       "0   Distrito Nacional                 0  Transferencia                1   \n",
       "1  Santo Domingo Este                 0  Transferencia                1   \n",
       "2   Distrito Nacional                 0  Transferencia                1   \n",
       "3   Distrito Nacional                 0  Transferencia                0   \n",
       "4          Boca Chica                 0  Transferencia                1   \n",
       "\n",
       "  Razon de eleccion del bootcamp Proveedores de bootcamp  \\\n",
       "0            Crecimiento laboral    Maestros de Talendig   \n",
       "1            Crecimiento laboral    Maestros de Talendig   \n",
       "2            Crecimiento laboral    Maestros de Talendig   \n",
       "3            Crecimiento laboral    Maestros de Talendig   \n",
       "4            Crecimiento laboral    Maestros de Talendig   \n",
       "\n",
       "                         Horario de los bootcamps  Egresado_Egresado  \\\n",
       "0  Lunes, miércoles y viernes de 6:00pm a 8:00 pm                1.0   \n",
       "1  Lunes, miércoles y viernes de 6:00pm a 8:00 pm                0.0   \n",
       "2  Lunes, miércoles y viernes de 6:00pm a 8:00 pm                1.0   \n",
       "3   Martes, jueves y viernes de 6:00 pm a 8:00 pm                0.0   \n",
       "4   Martes, jueves y viernes de 6:00 pm a 8:00 pm                1.0   \n",
       "\n",
       "   Primer contacto_Instagram  Primer contacto_WhatsApp  \\\n",
       "0                        1.0                       0.0   \n",
       "1                        1.0                       0.0   \n",
       "2                        1.0                       0.0   \n",
       "3                        1.0                       0.0   \n",
       "4                        1.0                       0.0   \n",
       "\n",
       "   Condiciones de pago_Completo  Condiciones de pago_Cuotas  \n",
       "0                           0.0                         1.0  \n",
       "1                           0.0                         1.0  \n",
       "2                           0.0                         1.0  \n",
       "3                           0.0                         1.0  \n",
       "4                           0.0                         1.0  "
      ]
     },
     "execution_count": 27,
     "metadata": {},
     "output_type": "execute_result"
    }
   ],
   "source": [
    "df1=df.drop(columns=[\"Egresado_Activo\",\"Egresado_Retirado\"])\n",
    "df1.head()"
   ]
  },
  {
   "cell_type": "code",
   "execution_count": 28,
   "id": "ffa6333a-7cd5-4e88-8413-c7777f598ad6",
   "metadata": {},
   "outputs": [
    {
     "data": {
      "text/plain": [
       "(142, 15)"
      ]
     },
     "execution_count": 28,
     "metadata": {},
     "output_type": "execute_result"
    }
   ],
   "source": [
    "df1.shape"
   ]
  },
  {
   "cell_type": "code",
   "execution_count": 29,
   "id": "b3fe3845-0ded-4763-8898-006045a248a8",
   "metadata": {},
   "outputs": [
    {
     "data": {
      "text/plain": [
       "Entrenamiento                     0\n",
       "Email                             0\n",
       "Precios US                        0\n",
       "Ubicacion                         0\n",
       "Incluye pasantia                  0\n",
       "Metodo de pago                    0\n",
       "Estatus laboral                   0\n",
       "Razon de eleccion del bootcamp    0\n",
       "Proveedores de bootcamp           0\n",
       "Horario de los bootcamps          0\n",
       "Egresado_Egresado                 0\n",
       "Primer contacto_Instagram         0\n",
       "Primer contacto_WhatsApp          0\n",
       "Condiciones de pago_Completo      0\n",
       "Condiciones de pago_Cuotas        0\n",
       "dtype: int64"
      ]
     },
     "execution_count": 29,
     "metadata": {},
     "output_type": "execute_result"
    }
   ],
   "source": [
    "df1.isna().sum()"
   ]
  },
  {
   "cell_type": "code",
   "execution_count": null,
   "id": "9db0a34a-1378-4234-a1da-3ad6974e0b34",
   "metadata": {},
   "outputs": [],
   "source": []
  },
  {
   "cell_type": "markdown",
   "id": "bc023004-ee80-4968-9fd1-fe592ace9b22",
   "metadata": {
    "tags": []
   },
   "source": [
    "## TRAIN TEST SPLIT"
   ]
  },
  {
   "cell_type": "code",
   "execution_count": 30,
   "id": "52508f12-5936-4361-a361-dfa52becce68",
   "metadata": {},
   "outputs": [
    {
     "name": "stdout",
     "output_type": "stream",
     "text": [
      "Tamaño del conjunto de entrenamiento (X_train): 99\n",
      "Tamaño del conjunto de validación (X_val): 21\n",
      "Tamaño del conjunto de prueba (X_test): 22\n",
      "Tamaño del conjunto de entrenamiento (y_train): 99\n",
      "Tamaño del conjunto de validación (y_val): 21\n",
      "Tamaño del conjunto de prueba (y_test): 22\n"
     ]
    }
   ],
   "source": [
    "from sklearn.model_selection import train_test_split\n",
    "\n",
    "X = df1.drop('Egresado_Egresado', axis=1)\n",
    "y = df1['Egresado_Egresado']\n",
    "\n",
    "# Dividir los datos en conjuntos de entrenamiento, validación y prueba\n",
    "# Primero, dividimos en entrenamiento y prueba\n",
    "X_train, X_test, y_train, y_test = train_test_split(X, y, test_size=0.3, random_state=42, stratify=y)\n",
    "\n",
    "# Luego, dividimos el conjunto de prueba en validación y prueba\n",
    "X_val, X_test, y_val, y_test = train_test_split(X_test, y_test, test_size=0.5, random_state=42, stratify=y_test)\n",
    "\n",
    "# Verificar los tamaños de los conjuntos resultantes\n",
    "print(\"Tamaño del conjunto de entrenamiento (X_train):\", len(X_train))\n",
    "print(\"Tamaño del conjunto de validación (X_val):\", len(X_val))\n",
    "print(\"Tamaño del conjunto de prueba (X_test):\", len(X_test))\n",
    "print(\"Tamaño del conjunto de entrenamiento (y_train):\", len(y_train))\n",
    "print(\"Tamaño del conjunto de validación (y_val):\", len(y_val))\n",
    "print(\"Tamaño del conjunto de prueba (y_test):\", len(y_test))"
   ]
  },
  {
   "cell_type": "code",
   "execution_count": 31,
   "id": "8fcc0460-eb24-440a-96c3-61a1e6fea91c",
   "metadata": {},
   "outputs": [
    {
     "data": {
      "text/plain": [
       "(22, 14)"
      ]
     },
     "execution_count": 31,
     "metadata": {},
     "output_type": "execute_result"
    }
   ],
   "source": [
    "X_test.shape"
   ]
  },
  {
   "cell_type": "code",
   "execution_count": 32,
   "id": "6ff13a05-0c29-4364-8c7d-c8fc6418fb20",
   "metadata": {},
   "outputs": [
    {
     "data": {
      "text/plain": [
       "(99, 14)"
      ]
     },
     "execution_count": 32,
     "metadata": {},
     "output_type": "execute_result"
    }
   ],
   "source": [
    "X_train.shape"
   ]
  },
  {
   "cell_type": "markdown",
   "id": "972dc9a5-238e-4a15-ab40-d4b6e45d7c1a",
   "metadata": {
    "tags": []
   },
   "source": [
    "## PREPROCESING"
   ]
  },
  {
   "cell_type": "code",
   "execution_count": 33,
   "id": "370f0e20-ba86-4a5f-8dbb-9fca9d38f996",
   "metadata": {
    "tags": []
   },
   "outputs": [],
   "source": [
    "from sklearn.preprocessing import StandardScaler, OneHotEncoder\n",
    "from sklearn.impute import SimpleImputer\n",
    "from sklearn.compose import make_column_transformer, make_column_selector\n",
    "from sklearn.pipeline import make_pipeline"
   ]
  },
  {
   "cell_type": "code",
   "execution_count": 34,
   "id": "345ded80-dfb4-4f50-b8d9-8e3ade0d9bbc",
   "metadata": {
    "tags": []
   },
   "outputs": [],
   "source": [
    "#Selectores\n",
    "cat_selector = make_column_selector(dtype_include='object')\n",
    "num_selector = make_column_selector(dtype_include='number')\n",
    "#Escaladores\n",
    "scaler = StandardScaler()\n",
    "ohe = OneHotEncoder(handle_unknown='ignore')\n",
    "#Pipe\n",
    "num_tuple = (scaler, num_selector)\n",
    "cat_tuple = (ohe, cat_selector)\n",
    "#Transform\n",
    "col_transformer = make_column_transformer(num_tuple, cat_tuple, remainder = 'passthrough')\n",
    "#Fit\n",
    "col_transformer.fit(X_train)\n",
    "# transform train and test\n",
    "X_train_processed = col_transformer.transform(X_train)\n",
    "X_test_processed = col_transformer.transform(X_test)"
   ]
  },
  {
   "cell_type": "markdown",
   "id": "2b82bac5-3f4d-43f1-943f-b7a4dbe50a9e",
   "metadata": {
    "tags": []
   },
   "source": [
    "## Modelos"
   ]
  },
  {
   "cell_type": "code",
   "execution_count": 35,
   "id": "d9d86df6-624e-49f3-93db-16dbedc67ecb",
   "metadata": {},
   "outputs": [],
   "source": [
    "class Models:\n",
    "\n",
    "    def __init__(self,Xtrain_processed,Xtest_processed, ytrain, ytest):\n",
    "\n",
    "        self.xtrain = Xtrain_processed\n",
    "        self.xtest = Xtest_processed\n",
    "        self.ytrain = ytrain\n",
    "        self.ytest = ytest\n",
    "\n",
    "  \n",
    "    def randomForestModel(self,estimators=100,depth=1):\n",
    "    \n",
    "        for inc in range(0,depth):\n",
    "            lgreg = RandomForestRegressor(n_estimators=estimators, max_depth=inc+1)\n",
    "            lgreg.fit(X_train_processed,y_train)\n",
    "\n",
    "            X_train_lg = lgreg.score(self.xtrain, y_train)\n",
    "            X_test_lg = lgreg.score(self.xtest, y_test)\n",
    "\n",
    "            pred = lgreg.predict(self.xtrain)\n",
    "\n",
    "            print('\\n************Max depth #',inc+1,'**************')\n",
    "            print('\\nRendimiendo datos de entremaniento:',X_train_lg, '\\n')\n",
    "            print('Rendimiendo datos de prueba:', X_test_lg, '\\n')\n",
    "            print(' R2 coeficiente de los datos de entrenamiento: ',r2_score(self.ytrain, pred),'\\n')       \n",
    "            print('\\nMean absolute error: \\n',mean_absolute_error(pred,self.ytrain))\n",
    "            print('\\nMean squared error: \\n',mean_squared_error(pred,self.ytrain))\n",
    "            print('\\nResidual sum of squares: \\n',mean_squared_error(pred,self.ytrain) * len(pred))\n",
    "            print('\\nRoot Mean Squared Error: \\n',mean_squared_error(pred,self.ytrain, squared=False))\n",
    "            print('Predicciones de los datos de entrenamiento: \\n\\n',pred)\n",
    "\n",
    "        return pred\n",
    "\n",
    "    def LinealRegression(self):\n",
    "\n",
    "        reg = LinearRegression()\n",
    "        reg.fit(self.xtrain,self.ytrain)\n",
    "\n",
    "        train_score = reg.score(self.xtrain, self.ytrain)\n",
    "        test_score =  reg.score(self.xtest, self.ytest)\n",
    "\n",
    "        ypred_train = reg.predict(self.xtrain)\n",
    "\n",
    "\n",
    "        r2_train = r2_score(self.ytrain, ypred_train)\n",
    "\n",
    "        print('Rendimiendo datos de entremaniento:',train_score, '\\n')\n",
    "        print('Rendimiendo datos de prueba:', test_score, '\\n')\n",
    "        print(' R2 coeficiente de los datos de entrenamiento: ',r2_train,'\\n')\n",
    "        print('Predicciones de los datos de entrenamiento: \\n\\n',ypred_train)\n",
    "        print('\\nMean absolute error: \\n',mean_absolute_error(ypred_train,self.ytrain))\n",
    "        print('\\nMean squared error: \\n',mean_squared_error(ypred_train,self.ytrain))\n",
    "        print('\\nRoot Mean Squared Error: \\n',mean_squared_error(ypred_train,self.ytrain, squared=False))\n",
    "\n",
    "\n",
    "        return ypred_train\n",
    "        \n",
    "    def knn(self,neighbors=1):\n",
    "\n",
    "        for inc in range(0,neighbors):\n",
    "            knn =  KNeighborsRegressor(n_neighbors=inc+1)\n",
    "            knn.fit(self.xtrain, y_train)\n",
    "            knn_score_train = knn.score(self.xtrain, self.ytrain)\n",
    "            knn_score_test = knn.score(self.xtest, self.ytest)\n",
    "            \n",
    "            knn_predict =  knn.predict(self.xtest)\n",
    "            knn_accuracy = accuracy_score(self.ytest,knn_predict)\n",
    "            print('\\n************N neighbors #',inc+1,'**************')\n",
    "            print('\\nRendimiendo datos de entremaniento:',knn_score_train, '\\n')\n",
    "            print('Rendimiendo datos de prueba:', knn_score_test, '\\n')\n",
    "            print('Predicciones de los datos de entrenamiento: \\n\\n',knn_predict)\n",
    "            print('Precicion de los datos : \\n\\n',knn_accuracy)\n",
    "\n",
    "        return knn_predict\n",
    "\n",
    "chooseModel = Models(X_train_processed,X_test_processed, y_train, y_test)"
   ]
  },
  {
   "cell_type": "code",
   "execution_count": 36,
   "id": "f93fb5ec-c61e-4e89-a890-1f5909a7feea",
   "metadata": {},
   "outputs": [
    {
     "name": "stdout",
     "output_type": "stream",
     "text": [
      "\n",
      "************N neighbors # 1 **************\n",
      "\n",
      "Rendimiendo datos de entremaniento: 0.6449067431850789 \n",
      "\n",
      "Rendimiendo datos de prueba: -0.5277777777777779 \n",
      "\n",
      "Predicciones de los datos de entrenamiento: \n",
      "\n",
      " [1. 1. 1. 1. 1. 1. 1. 1. 1. 1. 1. 1. 1. 1. 1. 1. 0. 1. 1. 1. 1. 1.]\n",
      "Precicion de los datos : \n",
      "\n",
      " 0.7727272727272727\n"
     ]
    },
    {
     "ename": "ValueError",
     "evalue": "Classification metrics can't handle a mix of binary and continuous targets",
     "output_type": "error",
     "traceback": [
      "\u001b[0;31m---------------------------------------------------------------------------\u001b[0m",
      "\u001b[0;31mValueError\u001b[0m                                Traceback (most recent call last)",
      "\u001b[0;32m/var/tmp/ipykernel_28630/4139889952.py\u001b[0m in \u001b[0;36m<module>\u001b[0;34m\u001b[0m\n\u001b[0;32m----> 1\u001b[0;31m \u001b[0mchooseModel\u001b[0m\u001b[0;34m.\u001b[0m\u001b[0mknn\u001b[0m\u001b[0;34m(\u001b[0m\u001b[0;36m30\u001b[0m\u001b[0;34m)\u001b[0m\u001b[0;34m\u001b[0m\u001b[0;34m\u001b[0m\u001b[0m\n\u001b[0m",
      "\u001b[0;32m/var/tmp/ipykernel_28630/2254633248.py\u001b[0m in \u001b[0;36mknn\u001b[0;34m(self, neighbors)\u001b[0m\n\u001b[1;32m     65\u001b[0m \u001b[0;34m\u001b[0m\u001b[0m\n\u001b[1;32m     66\u001b[0m             \u001b[0mknn_predict\u001b[0m \u001b[0;34m=\u001b[0m  \u001b[0mknn\u001b[0m\u001b[0;34m.\u001b[0m\u001b[0mpredict\u001b[0m\u001b[0;34m(\u001b[0m\u001b[0mself\u001b[0m\u001b[0;34m.\u001b[0m\u001b[0mxtest\u001b[0m\u001b[0;34m)\u001b[0m\u001b[0;34m\u001b[0m\u001b[0;34m\u001b[0m\u001b[0m\n\u001b[0;32m---> 67\u001b[0;31m             \u001b[0mknn_accuracy\u001b[0m \u001b[0;34m=\u001b[0m \u001b[0maccuracy_score\u001b[0m\u001b[0;34m(\u001b[0m\u001b[0mself\u001b[0m\u001b[0;34m.\u001b[0m\u001b[0mytest\u001b[0m\u001b[0;34m,\u001b[0m\u001b[0mknn_predict\u001b[0m\u001b[0;34m)\u001b[0m\u001b[0;34m\u001b[0m\u001b[0;34m\u001b[0m\u001b[0m\n\u001b[0m\u001b[1;32m     68\u001b[0m             \u001b[0mprint\u001b[0m\u001b[0;34m(\u001b[0m\u001b[0;34m'\\n************N neighbors #'\u001b[0m\u001b[0;34m,\u001b[0m\u001b[0minc\u001b[0m\u001b[0;34m+\u001b[0m\u001b[0;36m1\u001b[0m\u001b[0;34m,\u001b[0m\u001b[0;34m'**************'\u001b[0m\u001b[0;34m)\u001b[0m\u001b[0;34m\u001b[0m\u001b[0;34m\u001b[0m\u001b[0m\n\u001b[1;32m     69\u001b[0m             \u001b[0mprint\u001b[0m\u001b[0;34m(\u001b[0m\u001b[0;34m'\\nRendimiendo datos de entremaniento:'\u001b[0m\u001b[0;34m,\u001b[0m\u001b[0mknn_score_train\u001b[0m\u001b[0;34m,\u001b[0m \u001b[0;34m'\\n'\u001b[0m\u001b[0;34m)\u001b[0m\u001b[0;34m\u001b[0m\u001b[0;34m\u001b[0m\u001b[0m\n",
      "\u001b[0;32m/opt/conda/lib/python3.7/site-packages/sklearn/metrics/_classification.py\u001b[0m in \u001b[0;36maccuracy_score\u001b[0;34m(y_true, y_pred, normalize, sample_weight)\u001b[0m\n\u001b[1;32m    209\u001b[0m \u001b[0;34m\u001b[0m\u001b[0m\n\u001b[1;32m    210\u001b[0m     \u001b[0;31m# Compute accuracy for each possible representation\u001b[0m\u001b[0;34m\u001b[0m\u001b[0;34m\u001b[0m\u001b[0;34m\u001b[0m\u001b[0m\n\u001b[0;32m--> 211\u001b[0;31m     \u001b[0my_type\u001b[0m\u001b[0;34m,\u001b[0m \u001b[0my_true\u001b[0m\u001b[0;34m,\u001b[0m \u001b[0my_pred\u001b[0m \u001b[0;34m=\u001b[0m \u001b[0m_check_targets\u001b[0m\u001b[0;34m(\u001b[0m\u001b[0my_true\u001b[0m\u001b[0;34m,\u001b[0m \u001b[0my_pred\u001b[0m\u001b[0;34m)\u001b[0m\u001b[0;34m\u001b[0m\u001b[0;34m\u001b[0m\u001b[0m\n\u001b[0m\u001b[1;32m    212\u001b[0m     \u001b[0mcheck_consistent_length\u001b[0m\u001b[0;34m(\u001b[0m\u001b[0my_true\u001b[0m\u001b[0;34m,\u001b[0m \u001b[0my_pred\u001b[0m\u001b[0;34m,\u001b[0m \u001b[0msample_weight\u001b[0m\u001b[0;34m)\u001b[0m\u001b[0;34m\u001b[0m\u001b[0;34m\u001b[0m\u001b[0m\n\u001b[1;32m    213\u001b[0m     \u001b[0;32mif\u001b[0m \u001b[0my_type\u001b[0m\u001b[0;34m.\u001b[0m\u001b[0mstartswith\u001b[0m\u001b[0;34m(\u001b[0m\u001b[0;34m\"multilabel\"\u001b[0m\u001b[0;34m)\u001b[0m\u001b[0;34m:\u001b[0m\u001b[0;34m\u001b[0m\u001b[0;34m\u001b[0m\u001b[0m\n",
      "\u001b[0;32m/opt/conda/lib/python3.7/site-packages/sklearn/metrics/_classification.py\u001b[0m in \u001b[0;36m_check_targets\u001b[0;34m(y_true, y_pred)\u001b[0m\n\u001b[1;32m     93\u001b[0m         raise ValueError(\n\u001b[1;32m     94\u001b[0m             \"Classification metrics can't handle a mix of {0} and {1} targets\".format(\n\u001b[0;32m---> 95\u001b[0;31m                 \u001b[0mtype_true\u001b[0m\u001b[0;34m,\u001b[0m \u001b[0mtype_pred\u001b[0m\u001b[0;34m\u001b[0m\u001b[0;34m\u001b[0m\u001b[0m\n\u001b[0m\u001b[1;32m     96\u001b[0m             )\n\u001b[1;32m     97\u001b[0m         )\n",
      "\u001b[0;31mValueError\u001b[0m: Classification metrics can't handle a mix of binary and continuous targets"
     ]
    }
   ],
   "source": [
    "chooseModel.knn(30)"
   ]
  },
  {
   "cell_type": "code",
   "execution_count": 37,
   "id": "3515ae60-baf4-44df-90ee-ef31ca06af36",
   "metadata": {},
   "outputs": [],
   "source": [
    "#Modelo Arboles de Decision\n",
    "from sklearn.tree import DecisionTreeClassifier"
   ]
  },
  {
   "cell_type": "code",
   "execution_count": 38,
   "id": "207b43b4-5e78-4fc4-adfc-a6156e535f9d",
   "metadata": {},
   "outputs": [],
   "source": [
    "dec_tree = DecisionTreeClassifier(random_state = 42, max_depth=2)"
   ]
  },
  {
   "cell_type": "code",
   "execution_count": 45,
   "id": "19eb4dec-8aa9-447e-aadf-bfc544f6d283",
   "metadata": {},
   "outputs": [
    {
     "data": {
      "text/plain": [
       "DecisionTreeClassifier(max_depth=2, random_state=42)"
      ]
     },
     "execution_count": 45,
     "metadata": {},
     "output_type": "execute_result"
    }
   ],
   "source": [
    "dec_tree.fit(X_train_processed, y_train)"
   ]
  },
  {
   "cell_type": "code",
   "execution_count": 47,
   "id": "ebfab638-9f03-4dcf-be2d-b439f7398f80",
   "metadata": {},
   "outputs": [],
   "source": [
    "y_dec_tree_pred = dec_tree.predict(X_test_processed)"
   ]
  },
  {
   "cell_type": "code",
   "execution_count": 49,
   "id": "bca3f215-0ab1-442d-9e54-283c81e54da6",
   "metadata": {},
   "outputs": [
    {
     "name": "stdout",
     "output_type": "stream",
     "text": [
      "0.8484848484848485\n",
      "0.8181818181818182\n"
     ]
    }
   ],
   "source": [
    "train_score = dec_tree.score(X_train_processed, y_train)\n",
    "test_score = dec_tree.score(X_test_processed, y_test)\n",
    "print(train_score)\n",
    "print(test_score)"
   ]
  },
  {
   "cell_type": "code",
   "execution_count": null,
   "id": "f61eadd0-fcec-41a3-a86b-837d3fd89ec9",
   "metadata": {},
   "outputs": [],
   "source": []
  },
  {
   "cell_type": "code",
   "execution_count": 61,
   "id": "0a31a4b1-ff74-45d9-81ed-3bbe9dca27b6",
   "metadata": {},
   "outputs": [],
   "source": [
    "from tensorflow.keras.models import Sequential\n",
    "from tensorflow.keras.layers import Dense\n",
    "from sklearn.metrics import classification_report\n",
    "import matplotlib.pyplot as plt"
   ]
  },
  {
   "cell_type": "code",
   "execution_count": null,
   "id": "191470c1-d186-460d-923c-3bd93daf807c",
   "metadata": {},
   "outputs": [],
   "source": []
  },
  {
   "cell_type": "code",
   "execution_count": null,
   "id": "f81d1823-6a36-4125-8c27-965edbf1f428",
   "metadata": {},
   "outputs": [],
   "source": []
  },
  {
   "cell_type": "code",
   "execution_count": 51,
   "id": "c8e9e2af-21ff-4dcf-8d0b-5df04ea49464",
   "metadata": {},
   "outputs": [],
   "source": [
    "#Red neuronal 1"
   ]
  },
  {
   "cell_type": "code",
   "execution_count": 55,
   "id": "13a6d048-5351-420f-be67-887553d4c167",
   "metadata": {},
   "outputs": [
    {
     "data": {
      "text/plain": [
       "42"
      ]
     },
     "execution_count": 55,
     "metadata": {},
     "output_type": "execute_result"
    }
   ],
   "source": [
    "input_shape = X_train_processed.shape[1]\n",
    "input_shape"
   ]
  },
  {
   "cell_type": "code",
   "execution_count": 56,
   "id": "733e7341-9b46-4629-bb54-2df40974e957",
   "metadata": {},
   "outputs": [],
   "source": [
    "# Sequential model\n",
    "model = Sequential()\n",
    "# First hidden layer\n",
    "model.add(Dense(20, input_dim = input_shape, activation = 'relu'))\n",
    "# Second hidden layer\n",
    "model.add(Dense(10, activation = 'relu'))\n",
    "# Output layer\n",
    "model.add(Dense(1, activation = 'sigmoid'))\n",
    "# Step 2: Compile\n",
    "model.compile(loss = 'bce', optimizer = 'adam', metrics = 'accuracy')"
   ]
  },
  {
   "cell_type": "code",
   "execution_count": 57,
   "id": "d9d636ee-f223-424c-8f46-35013a5e93b5",
   "metadata": {},
   "outputs": [
    {
     "name": "stdout",
     "output_type": "stream",
     "text": [
      "Epoch 1/10\n",
      "4/4 [==============================] - 3s 101ms/step - loss: 0.9393 - accuracy: 0.1717 - val_loss: 0.9452 - val_accuracy: 0.1818\n",
      "Epoch 2/10\n",
      "4/4 [==============================] - 0s 19ms/step - loss: 0.9041 - accuracy: 0.1717 - val_loss: 0.9122 - val_accuracy: 0.1818\n",
      "Epoch 3/10\n",
      "4/4 [==============================] - 0s 22ms/step - loss: 0.8727 - accuracy: 0.1717 - val_loss: 0.8856 - val_accuracy: 0.1818\n",
      "Epoch 4/10\n",
      "4/4 [==============================] - 0s 19ms/step - loss: 0.8454 - accuracy: 0.1717 - val_loss: 0.8607 - val_accuracy: 0.1818\n",
      "Epoch 5/10\n",
      "4/4 [==============================] - 0s 18ms/step - loss: 0.8230 - accuracy: 0.1717 - val_loss: 0.8377 - val_accuracy: 0.1364\n",
      "Epoch 6/10\n",
      "4/4 [==============================] - 0s 20ms/step - loss: 0.8009 - accuracy: 0.2121 - val_loss: 0.8171 - val_accuracy: 0.1818\n",
      "Epoch 7/10\n",
      "4/4 [==============================] - 0s 24ms/step - loss: 0.7823 - accuracy: 0.2222 - val_loss: 0.7984 - val_accuracy: 0.1818\n",
      "Epoch 8/10\n",
      "4/4 [==============================] - 0s 22ms/step - loss: 0.7652 - accuracy: 0.2424 - val_loss: 0.7834 - val_accuracy: 0.1818\n",
      "Epoch 9/10\n",
      "4/4 [==============================] - 0s 20ms/step - loss: 0.7504 - accuracy: 0.2424 - val_loss: 0.7721 - val_accuracy: 0.1818\n",
      "Epoch 10/10\n",
      "4/4 [==============================] - 0s 23ms/step - loss: 0.7376 - accuracy: 0.2525 - val_loss: 0.7618 - val_accuracy: 0.1818\n"
     ]
    }
   ],
   "source": [
    "# Fit our model\n",
    "history = model.fit(X_train_processed, y_train,\n",
    "                    validation_data = (X_test_processed, y_test), \n",
    "                    epochs=10)"
   ]
  },
  {
   "cell_type": "code",
   "execution_count": 62,
   "id": "4b258298-5295-48b8-9996-962938d371ba",
   "metadata": {},
   "outputs": [
    {
     "data": {
      "image/png": "[encoded data removed]",
      "text/plain": [
       "<Figure size 640x480 with 1 Axes>"
      ]
     },
     "metadata": {},
     "output_type": "display_data"
    }
   ],
   "source": [
    "# Visualize the loss\n",
    "plt.plot(history.history['loss'], label='Train loss')\n",
    "plt.plot(history.history['val_loss'], label='Test Loss')\n",
    "plt.legend();"
   ]
  },
  {
   "cell_type": "code",
   "execution_count": 63,
   "id": "55ab0ee9-69e4-4852-8688-261ff26ebf5f",
   "metadata": {},
   "outputs": [
    {
     "data": {
      "image/png": "[encoded data removed]",
      "text/plain": [
       "<Figure size 640x480 with 1 Axes>"
      ]
     },
     "metadata": {},
     "output_type": "display_data"
    }
   ],
   "source": [
    "# Visualize the accuracy\n",
    "plt.plot(history.history['accuracy'], label='Train accuracy')\n",
    "plt.plot(history.history['val_accuracy'], label='Test accuracy')\n",
    "plt.legend();"
   ]
  },
  {
   "cell_type": "code",
   "execution_count": 64,
   "id": "e3b26b08-9521-4e4d-9e06-54cc33fa4596",
   "metadata": {},
   "outputs": [
    {
     "name": "stdout",
     "output_type": "stream",
     "text": [
      "1/1 [==============================] - 0s 51ms/step\n",
      "              precision    recall  f1-score   support\n",
      "\n",
      "         0.0       0.75      0.15      0.25        20\n",
      "         1.0       0.06      0.50      0.10         2\n",
      "\n",
      "    accuracy                           0.18        22\n",
      "   macro avg       0.40      0.33      0.17        22\n",
      "weighted avg       0.69      0.18      0.24        22\n",
      "\n"
     ]
    }
   ],
   "source": [
    "predictions = model.predict(X_test_processed)\n",
    "prediction=np.round(predictions)\n",
    "print(classification_report(prediction, y_test))"
   ]
  },
  {
   "cell_type": "code",
   "execution_count": null,
   "id": "76e165be-11d2-4cf5-b7f8-73a2e42b35eb",
   "metadata": {},
   "outputs": [],
   "source": []
  },
  {
   "cell_type": "code",
   "execution_count": null,
   "id": "2416c02d-7e63-49ba-b84e-05612a678881",
   "metadata": {},
   "outputs": [],
   "source": [
    "#Red Neuronal 2"
   ]
  },
  {
   "cell_type": "code",
   "execution_count": 65,
   "id": "976c0d1f-b60b-4d7c-8379-7e1ebd1bff5b",
   "metadata": {},
   "outputs": [],
   "source": [
    "# Sequential model\n",
    "model2 = Sequential()\n",
    "# First hidden layer\n",
    "model2.add(Dense(40, input_dim = input_shape, activation = 'relu'))\n",
    "# Second hidden layer\n",
    "model2.add(Dense(20, activation = 'relu'))\n",
    "# Output layer\n",
    "model2.add(Dense(1, activation = 'sigmoid'))\n",
    "# Step 2: Compile\n",
    "model2.compile(loss = 'bce', optimizer = 'adam', metrics = 'accuracy')"
   ]
  },
  {
   "cell_type": "code",
   "execution_count": 66,
   "id": "44131c70-2ab9-4b7f-b31c-c3ccdb553323",
   "metadata": {},
   "outputs": [
    {
     "name": "stdout",
     "output_type": "stream",
     "text": [
      "Epoch 1/20\n",
      "4/4 [==============================] - 2s 148ms/step - loss: 0.9861 - accuracy: 0.1717 - val_loss: 0.8832 - val_accuracy: 0.2273\n",
      "Epoch 2/20\n",
      "4/4 [==============================] - 0s 32ms/step - loss: 0.8782 - accuracy: 0.1919 - val_loss: 0.8109 - val_accuracy: 0.2273\n",
      "Epoch 3/20\n",
      "4/4 [==============================] - 0s 34ms/step - loss: 0.8028 - accuracy: 0.2828 - val_loss: 0.7531 - val_accuracy: 0.2273\n",
      "Epoch 4/20\n",
      "4/4 [==============================] - 0s 33ms/step - loss: 0.7414 - accuracy: 0.3838 - val_loss: 0.7113 - val_accuracy: 0.5000\n",
      "Epoch 5/20\n",
      "4/4 [==============================] - 0s 34ms/step - loss: 0.7007 - accuracy: 0.5152 - val_loss: 0.6836 - val_accuracy: 0.5909\n",
      "Epoch 6/20\n",
      "4/4 [==============================] - 0s 30ms/step - loss: 0.6700 - accuracy: 0.6364 - val_loss: 0.6644 - val_accuracy: 0.6364\n",
      "Epoch 7/20\n",
      "4/4 [==============================] - 0s 34ms/step - loss: 0.6465 - accuracy: 0.6667 - val_loss: 0.6455 - val_accuracy: 0.8636\n",
      "Epoch 8/20\n",
      "4/4 [==============================] - 0s 32ms/step - loss: 0.6272 - accuracy: 0.7778 - val_loss: 0.6276 - val_accuracy: 0.8636\n",
      "Epoch 9/20\n",
      "4/4 [==============================] - 0s 31ms/step - loss: 0.6099 - accuracy: 0.7677 - val_loss: 0.6106 - val_accuracy: 0.8636\n",
      "Epoch 10/20\n",
      "4/4 [==============================] - 0s 32ms/step - loss: 0.5932 - accuracy: 0.7677 - val_loss: 0.5965 - val_accuracy: 0.8182\n",
      "Epoch 11/20\n",
      "4/4 [==============================] - 0s 33ms/step - loss: 0.5772 - accuracy: 0.7778 - val_loss: 0.5887 - val_accuracy: 0.8182\n",
      "Epoch 12/20\n",
      "4/4 [==============================] - 0s 31ms/step - loss: 0.5658 - accuracy: 0.8384 - val_loss: 0.5808 - val_accuracy: 0.8182\n",
      "Epoch 13/20\n",
      "4/4 [==============================] - 0s 27ms/step - loss: 0.5531 - accuracy: 0.8384 - val_loss: 0.5729 - val_accuracy: 0.8182\n",
      "Epoch 14/20\n",
      "4/4 [==============================] - 0s 32ms/step - loss: 0.5420 - accuracy: 0.8283 - val_loss: 0.5636 - val_accuracy: 0.8182\n",
      "Epoch 15/20\n",
      "4/4 [==============================] - 0s 28ms/step - loss: 0.5298 - accuracy: 0.8283 - val_loss: 0.5519 - val_accuracy: 0.8182\n",
      "Epoch 16/20\n",
      "4/4 [==============================] - 0s 24ms/step - loss: 0.5166 - accuracy: 0.8283 - val_loss: 0.5391 - val_accuracy: 0.8182\n",
      "Epoch 17/20\n",
      "4/4 [==============================] - 0s 31ms/step - loss: 0.5045 - accuracy: 0.8283 - val_loss: 0.5249 - val_accuracy: 0.8182\n",
      "Epoch 18/20\n",
      "4/4 [==============================] - 0s 33ms/step - loss: 0.4913 - accuracy: 0.8283 - val_loss: 0.5102 - val_accuracy: 0.8182\n",
      "Epoch 19/20\n",
      "4/4 [==============================] - 0s 24ms/step - loss: 0.4795 - accuracy: 0.8283 - val_loss: 0.4971 - val_accuracy: 0.8182\n",
      "Epoch 20/20\n",
      "4/4 [==============================] - 0s 25ms/step - loss: 0.4689 - accuracy: 0.8283 - val_loss: 0.4867 - val_accuracy: 0.8182\n"
     ]
    }
   ],
   "source": [
    "# Fit our model\n",
    "history2 = model2.fit(X_train_processed, y_train,\n",
    "                    validation_data = (X_test_processed, y_test), \n",
    "                    epochs=20)"
   ]
  },
  {
   "cell_type": "code",
   "execution_count": 67,
   "id": "0787c0b8-3580-4373-a1bd-ef30146627b9",
   "metadata": {},
   "outputs": [
    {
     "data": {
      "image/png": "[encoded data removed]",
      "text/plain": [
       "<Figure size 640x480 with 1 Axes>"
      ]
     },
     "metadata": {},
     "output_type": "display_data"
    }
   ],
   "source": [
    "# Visualize the loss\n",
    "plt.plot(history2.history['loss'], label='Train loss')\n",
    "plt.plot(history2.history['val_loss'], label='Test Loss')\n",
    "plt.legend();"
   ]
  },
  {
   "cell_type": "code",
   "execution_count": 68,
   "id": "ecd9d9db-d7a3-40e7-9939-1f45a83269a0",
   "metadata": {},
   "outputs": [
    {
     "data": {
      "image/png": "[encoded data removed]",
      "text/plain": [
       "<Figure size 640x480 with 1 Axes>"
      ]
     },
     "metadata": {},
     "output_type": "display_data"
    }
   ],
   "source": [
    "# Visualize the accuracy\n",
    "plt.plot(history2.history['accuracy'], label='Train accuracy')\n",
    "plt.plot(history2.history['val_accuracy'], label='Test accuracy')\n",
    "plt.legend();"
   ]
  },
  {
   "cell_type": "code",
   "execution_count": 69,
   "id": "20143496-f47a-4c10-89b4-7f8a6d390a70",
   "metadata": {},
   "outputs": [
    {
     "name": "stdout",
     "output_type": "stream",
     "text": [
      "1/1 [==============================] - 0s 139ms/step\n",
      "              precision    recall  f1-score   support\n",
      "\n",
      "         0.0       0.00      0.00      0.00         0\n",
      "         1.0       1.00      0.82      0.90        22\n",
      "\n",
      "    accuracy                           0.82        22\n",
      "   macro avg       0.50      0.41      0.45        22\n",
      "weighted avg       1.00      0.82      0.90        22\n",
      "\n"
     ]
    },
    {
     "name": "stderr",
     "output_type": "stream",
     "text": [
      "/opt/conda/lib/python3.7/site-packages/sklearn/metrics/_classification.py:1318: UndefinedMetricWarning: Recall and F-score are ill-defined and being set to 0.0 in labels with no true samples. Use `zero_division` parameter to control this behavior.\n",
      "  _warn_prf(average, modifier, msg_start, len(result))\n",
      "/opt/conda/lib/python3.7/site-packages/sklearn/metrics/_classification.py:1318: UndefinedMetricWarning: Recall and F-score are ill-defined and being set to 0.0 in labels with no true samples. Use `zero_division` parameter to control this behavior.\n",
      "  _warn_prf(average, modifier, msg_start, len(result))\n",
      "/opt/conda/lib/python3.7/site-packages/sklearn/metrics/_classification.py:1318: UndefinedMetricWarning: Recall and F-score are ill-defined and being set to 0.0 in labels with no true samples. Use `zero_division` parameter to control this behavior.\n",
      "  _warn_prf(average, modifier, msg_start, len(result))\n"
     ]
    }
   ],
   "source": [
    "predictions = model2.predict(X_test_processed)\n",
    "prediction=np.round(predictions)\n",
    "print(classification_report(prediction, y_test))"
   ]
  },
  {
   "cell_type": "code",
   "execution_count": null,
   "id": "57f0be4c-0c2e-4041-a696-d21cf9804f6f",
   "metadata": {},
   "outputs": [],
   "source": []
  },
  {
   "cell_type": "code",
   "execution_count": null,
   "id": "33a4b113-07d9-4891-a6e2-558fe56fe7fb",
   "metadata": {},
   "outputs": [],
   "source": []
  },
  {
   "cell_type": "code",
   "execution_count": null,
   "id": "667e77c7-9927-44df-a060-d24ae1ac2f2b",
   "metadata": {},
   "outputs": [],
   "source": []
  }
 ],
 "metadata": {
  "environment": {
   "kernel": "python3",
   "name": "common-cpu.m107",
   "type": "gcloud",
   "uri": "gcr.io/deeplearning-platform-release/base-cpu:m107"
  },
  "kernelspec": {
   "display_name": "Python 3",
   "language": "python",
   "name": "python3"
  },
  "language_info": {
   "codemirror_mode": {
    "name": "ipython",
    "version": 3
   },
   "file_extension": ".py",
   "mimetype": "text/x-python",
   "name": "python",
   "nbconvert_exporter": "python",
   "pygments_lexer": "ipython3",
   "version": "3.7.12"
  }
 },
 "nbformat": 4,
 "nbformat_minor": 5
}
