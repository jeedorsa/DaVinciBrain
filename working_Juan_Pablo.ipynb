{
 "cells": [
  {
   "cell_type": "markdown",
   "id": "4c4a0279-6cd0-4c3b-99d6-c630dae874fb",
   "metadata": {
    "tags": []
   },
   "source": [
    "## DATA IMPORT"
   ]
  },
  {
   "cell_type": "code",
   "execution_count": 20,
   "id": "24483f9a-7280-4353-93ea-faa46cb0a00a",
   "metadata": {},
   "outputs": [],
   "source": [
    "import pandas as pd\n",
    "import numpy as np\n",
    "from sklearn.model_selection import train_test_split\n",
    "from sklearn.compose import make_column_selector, make_column_transformer\n",
    "from sklearn.ensemble import RandomForestClassifier\n",
    "from sklearn.preprocessing import StandardScaler,OneHotEncoder\n",
    "from sklearn.neighbors import KNeighborsClassifier\n",
    "from sklearn.ensemble import RandomForestRegressor\n",
    "from sklearn.metrics import mean_absolute_error, mean_squared_error,r2_score, accuracy_score\n",
    "\n",
    "import matplotlib.pyplot as plt\n",
    "import seaborn as sns\n",
    "from sklearn.metrics import classification_report\n",
    "from sklearn.metrics import confusion_matrix"
   ]
  },
  {
   "cell_type": "code",
   "execution_count": 21,
   "id": "a5da1be5-b10c-4bd8-816e-99e0a106d532",
   "metadata": {},
   "outputs": [
    {
     "data": {
      "text/html": [
       "<div>\n",
       "<style scoped>\n",
       "    .dataframe tbody tr th:only-of-type {\n",
       "        vertical-align: middle;\n",
       "    }\n",
       "\n",
       "    .dataframe tbody tr th {\n",
       "        vertical-align: top;\n",
       "    }\n",
       "\n",
       "    .dataframe thead th {\n",
       "        text-align: right;\n",
       "    }\n",
       "</style>\n",
       "<table border=\"1\" class=\"dataframe\">\n",
       "  <thead>\n",
       "    <tr style=\"text-align: right;\">\n",
       "      <th></th>\n",
       "      <th>Entrenamiento</th>\n",
       "      <th>Email</th>\n",
       "      <th>Precios US</th>\n",
       "      <th>Ubicacion</th>\n",
       "      <th>Incluye pasantia</th>\n",
       "      <th>Metodo de pago</th>\n",
       "      <th>Estatus laboral</th>\n",
       "      <th>Razon de eleccion del bootcamp</th>\n",
       "      <th>Proveedores de bootcamp</th>\n",
       "      <th>Horario de los bootcamps</th>\n",
       "      <th>Egresado_Activo</th>\n",
       "      <th>Egresado_Egresado</th>\n",
       "      <th>Egresado_Retirado</th>\n",
       "      <th>Primer contacto_Instagram</th>\n",
       "      <th>Primer contacto_WhatsApp</th>\n",
       "      <th>Condiciones de pago_Completo</th>\n",
       "      <th>Condiciones de pago_Cuotas</th>\n",
       "    </tr>\n",
       "  </thead>\n",
       "  <tbody>\n",
       "    <tr>\n",
       "      <th>0</th>\n",
       "      <td>Bootcamp en Desarrollo Web con C#</td>\n",
       "      <td>gmail.com</td>\n",
       "      <td>2900.0</td>\n",
       "      <td>Distrito Nacional</td>\n",
       "      <td>0</td>\n",
       "      <td>Transferencia</td>\n",
       "      <td>1</td>\n",
       "      <td>Crecimiento laboral</td>\n",
       "      <td>Maestros de Talendig</td>\n",
       "      <td>Lunes, miércoles y viernes de 6:00pm a 8:00 pm</td>\n",
       "      <td>0.0</td>\n",
       "      <td>1.0</td>\n",
       "      <td>0.0</td>\n",
       "      <td>1.0</td>\n",
       "      <td>0.0</td>\n",
       "      <td>0.0</td>\n",
       "      <td>1.0</td>\n",
       "    </tr>\n",
       "    <tr>\n",
       "      <th>1</th>\n",
       "      <td>Bootcamp en Desarrollo Web con C#</td>\n",
       "      <td>gmail.com</td>\n",
       "      <td>2900.0</td>\n",
       "      <td>Santo Domingo Este</td>\n",
       "      <td>0</td>\n",
       "      <td>Transferencia</td>\n",
       "      <td>1</td>\n",
       "      <td>Crecimiento laboral</td>\n",
       "      <td>Maestros de Talendig</td>\n",
       "      <td>Lunes, miércoles y viernes de 6:00pm a 8:00 pm</td>\n",
       "      <td>0.0</td>\n",
       "      <td>0.0</td>\n",
       "      <td>1.0</td>\n",
       "      <td>1.0</td>\n",
       "      <td>0.0</td>\n",
       "      <td>0.0</td>\n",
       "      <td>1.0</td>\n",
       "    </tr>\n",
       "    <tr>\n",
       "      <th>2</th>\n",
       "      <td>Bootcamp en Desarrollo Web con C#</td>\n",
       "      <td>gmail.com</td>\n",
       "      <td>2900.0</td>\n",
       "      <td>Distrito Nacional</td>\n",
       "      <td>0</td>\n",
       "      <td>Transferencia</td>\n",
       "      <td>1</td>\n",
       "      <td>Crecimiento laboral</td>\n",
       "      <td>Maestros de Talendig</td>\n",
       "      <td>Lunes, miércoles y viernes de 6:00pm a 8:00 pm</td>\n",
       "      <td>0.0</td>\n",
       "      <td>1.0</td>\n",
       "      <td>0.0</td>\n",
       "      <td>1.0</td>\n",
       "      <td>0.0</td>\n",
       "      <td>0.0</td>\n",
       "      <td>1.0</td>\n",
       "    </tr>\n",
       "    <tr>\n",
       "      <th>3</th>\n",
       "      <td>Bootcamp en Desarrollo Web con Java</td>\n",
       "      <td>gmail.com</td>\n",
       "      <td>2900.0</td>\n",
       "      <td>Distrito Nacional</td>\n",
       "      <td>0</td>\n",
       "      <td>Transferencia</td>\n",
       "      <td>0</td>\n",
       "      <td>Crecimiento laboral</td>\n",
       "      <td>Maestros de Talendig</td>\n",
       "      <td>Martes, jueves y viernes de 6:00 pm a 8:00 pm</td>\n",
       "      <td>0.0</td>\n",
       "      <td>0.0</td>\n",
       "      <td>1.0</td>\n",
       "      <td>1.0</td>\n",
       "      <td>0.0</td>\n",
       "      <td>0.0</td>\n",
       "      <td>1.0</td>\n",
       "    </tr>\n",
       "    <tr>\n",
       "      <th>4</th>\n",
       "      <td>Bootcamp en Desarrollo Web con Java</td>\n",
       "      <td>gmail.com</td>\n",
       "      <td>2900.0</td>\n",
       "      <td>Boca Chica</td>\n",
       "      <td>0</td>\n",
       "      <td>Transferencia</td>\n",
       "      <td>1</td>\n",
       "      <td>Crecimiento laboral</td>\n",
       "      <td>Maestros de Talendig</td>\n",
       "      <td>Martes, jueves y viernes de 6:00 pm a 8:00 pm</td>\n",
       "      <td>0.0</td>\n",
       "      <td>1.0</td>\n",
       "      <td>0.0</td>\n",
       "      <td>1.0</td>\n",
       "      <td>0.0</td>\n",
       "      <td>0.0</td>\n",
       "      <td>1.0</td>\n",
       "    </tr>\n",
       "    <tr>\n",
       "      <th>...</th>\n",
       "      <td>...</td>\n",
       "      <td>...</td>\n",
       "      <td>...</td>\n",
       "      <td>...</td>\n",
       "      <td>...</td>\n",
       "      <td>...</td>\n",
       "      <td>...</td>\n",
       "      <td>...</td>\n",
       "      <td>...</td>\n",
       "      <td>...</td>\n",
       "      <td>...</td>\n",
       "      <td>...</td>\n",
       "      <td>...</td>\n",
       "      <td>...</td>\n",
       "      <td>...</td>\n",
       "      <td>...</td>\n",
       "      <td>...</td>\n",
       "    </tr>\n",
       "    <tr>\n",
       "      <th>155</th>\n",
       "      <td>Bootcamp en Desarrollo Web</td>\n",
       "      <td>gmail.com</td>\n",
       "      <td>2900.0</td>\n",
       "      <td>Santo Domingo Este</td>\n",
       "      <td>0</td>\n",
       "      <td>Transferencia</td>\n",
       "      <td>0</td>\n",
       "      <td>Aprender algo nuevo</td>\n",
       "      <td>Maestros de Talendig</td>\n",
       "      <td>Luner, miércoles y viernes de 8: pm a 10:00 pm</td>\n",
       "      <td>1.0</td>\n",
       "      <td>0.0</td>\n",
       "      <td>0.0</td>\n",
       "      <td>1.0</td>\n",
       "      <td>0.0</td>\n",
       "      <td>0.0</td>\n",
       "      <td>1.0</td>\n",
       "    </tr>\n",
       "    <tr>\n",
       "      <th>156</th>\n",
       "      <td>Bootcamp en Desarrollo Web</td>\n",
       "      <td>gmail.com</td>\n",
       "      <td>2900.0</td>\n",
       "      <td>Santo Domingo Este</td>\n",
       "      <td>0</td>\n",
       "      <td>Transferencia</td>\n",
       "      <td>0</td>\n",
       "      <td>Aprender algo nuevo</td>\n",
       "      <td>Maestros de Talendig</td>\n",
       "      <td>Luner, miércoles y viernes de 8: pm a 10:00 pm</td>\n",
       "      <td>1.0</td>\n",
       "      <td>0.0</td>\n",
       "      <td>0.0</td>\n",
       "      <td>1.0</td>\n",
       "      <td>0.0</td>\n",
       "      <td>0.0</td>\n",
       "      <td>1.0</td>\n",
       "    </tr>\n",
       "    <tr>\n",
       "      <th>157</th>\n",
       "      <td>Bootcamp en Data Science y Machine Learning en...</td>\n",
       "      <td>gmail.com</td>\n",
       "      <td>2900.0</td>\n",
       "      <td>Distrito Nacional</td>\n",
       "      <td>1</td>\n",
       "      <td>Transferencia</td>\n",
       "      <td>0</td>\n",
       "      <td>Aprender algo nuevo</td>\n",
       "      <td>Maestros de Talendig</td>\n",
       "      <td>Martes, Jueves y Sábados</td>\n",
       "      <td>1.0</td>\n",
       "      <td>0.0</td>\n",
       "      <td>0.0</td>\n",
       "      <td>0.0</td>\n",
       "      <td>1.0</td>\n",
       "      <td>0.0</td>\n",
       "      <td>1.0</td>\n",
       "    </tr>\n",
       "    <tr>\n",
       "      <th>158</th>\n",
       "      <td>Bootcamp en Data Science y Machine Learning en...</td>\n",
       "      <td>hotmail.com</td>\n",
       "      <td>2900.0</td>\n",
       "      <td>Distrito Nacional</td>\n",
       "      <td>1</td>\n",
       "      <td>Transferencia</td>\n",
       "      <td>0</td>\n",
       "      <td>Aprender algo nuevo</td>\n",
       "      <td>Maestros de Talendig</td>\n",
       "      <td>Martes, Jueves y Sábados</td>\n",
       "      <td>1.0</td>\n",
       "      <td>0.0</td>\n",
       "      <td>0.0</td>\n",
       "      <td>0.0</td>\n",
       "      <td>1.0</td>\n",
       "      <td>0.0</td>\n",
       "      <td>1.0</td>\n",
       "    </tr>\n",
       "    <tr>\n",
       "      <th>159</th>\n",
       "      <td>Bootcamp en Data Science y Machine Learning en...</td>\n",
       "      <td>hotmail.com</td>\n",
       "      <td>2900.0</td>\n",
       "      <td>Distrito Nacional</td>\n",
       "      <td>1</td>\n",
       "      <td>Transferencia</td>\n",
       "      <td>0</td>\n",
       "      <td>Aprender algo nuevo</td>\n",
       "      <td>Maestros de Talendig</td>\n",
       "      <td>Martes, Jueves y Sábados</td>\n",
       "      <td>1.0</td>\n",
       "      <td>0.0</td>\n",
       "      <td>0.0</td>\n",
       "      <td>0.0</td>\n",
       "      <td>1.0</td>\n",
       "      <td>0.0</td>\n",
       "      <td>1.0</td>\n",
       "    </tr>\n",
       "  </tbody>\n",
       "</table>\n",
       "<p>160 rows × 17 columns</p>\n",
       "</div>"
      ],
      "text/plain": [
       "                                         Entrenamiento        Email  \\\n",
       "0                    Bootcamp en Desarrollo Web con C#    gmail.com   \n",
       "1                    Bootcamp en Desarrollo Web con C#    gmail.com   \n",
       "2                    Bootcamp en Desarrollo Web con C#    gmail.com   \n",
       "3                  Bootcamp en Desarrollo Web con Java    gmail.com   \n",
       "4                  Bootcamp en Desarrollo Web con Java    gmail.com   \n",
       "..                                                 ...          ...   \n",
       "155                         Bootcamp en Desarrollo Web    gmail.com   \n",
       "156                         Bootcamp en Desarrollo Web    gmail.com   \n",
       "157  Bootcamp en Data Science y Machine Learning en...    gmail.com   \n",
       "158  Bootcamp en Data Science y Machine Learning en...  hotmail.com   \n",
       "159  Bootcamp en Data Science y Machine Learning en...  hotmail.com   \n",
       "\n",
       "     Precios US           Ubicacion  Incluye pasantia Metodo de pago  \\\n",
       "0        2900.0   Distrito Nacional                 0  Transferencia   \n",
       "1        2900.0  Santo Domingo Este                 0  Transferencia   \n",
       "2        2900.0   Distrito Nacional                 0  Transferencia   \n",
       "3        2900.0   Distrito Nacional                 0  Transferencia   \n",
       "4        2900.0          Boca Chica                 0  Transferencia   \n",
       "..          ...                 ...               ...            ...   \n",
       "155      2900.0  Santo Domingo Este                 0  Transferencia   \n",
       "156      2900.0  Santo Domingo Este                 0  Transferencia   \n",
       "157      2900.0   Distrito Nacional                 1  Transferencia   \n",
       "158      2900.0   Distrito Nacional                 1  Transferencia   \n",
       "159      2900.0   Distrito Nacional                 1  Transferencia   \n",
       "\n",
       "     Estatus laboral Razon de eleccion del bootcamp Proveedores de bootcamp  \\\n",
       "0                  1            Crecimiento laboral    Maestros de Talendig   \n",
       "1                  1            Crecimiento laboral    Maestros de Talendig   \n",
       "2                  1            Crecimiento laboral    Maestros de Talendig   \n",
       "3                  0            Crecimiento laboral    Maestros de Talendig   \n",
       "4                  1            Crecimiento laboral    Maestros de Talendig   \n",
       "..               ...                            ...                     ...   \n",
       "155                0            Aprender algo nuevo    Maestros de Talendig   \n",
       "156                0            Aprender algo nuevo    Maestros de Talendig   \n",
       "157                0            Aprender algo nuevo    Maestros de Talendig   \n",
       "158                0            Aprender algo nuevo    Maestros de Talendig   \n",
       "159                0            Aprender algo nuevo    Maestros de Talendig   \n",
       "\n",
       "                           Horario de los bootcamps  Egresado_Activo  \\\n",
       "0    Lunes, miércoles y viernes de 6:00pm a 8:00 pm              0.0   \n",
       "1    Lunes, miércoles y viernes de 6:00pm a 8:00 pm              0.0   \n",
       "2    Lunes, miércoles y viernes de 6:00pm a 8:00 pm              0.0   \n",
       "3     Martes, jueves y viernes de 6:00 pm a 8:00 pm              0.0   \n",
       "4     Martes, jueves y viernes de 6:00 pm a 8:00 pm              0.0   \n",
       "..                                              ...              ...   \n",
       "155  Luner, miércoles y viernes de 8: pm a 10:00 pm              1.0   \n",
       "156  Luner, miércoles y viernes de 8: pm a 10:00 pm              1.0   \n",
       "157                        Martes, Jueves y Sábados              1.0   \n",
       "158                        Martes, Jueves y Sábados              1.0   \n",
       "159                        Martes, Jueves y Sábados              1.0   \n",
       "\n",
       "     Egresado_Egresado  Egresado_Retirado  Primer contacto_Instagram  \\\n",
       "0                  1.0                0.0                        1.0   \n",
       "1                  0.0                1.0                        1.0   \n",
       "2                  1.0                0.0                        1.0   \n",
       "3                  0.0                1.0                        1.0   \n",
       "4                  1.0                0.0                        1.0   \n",
       "..                 ...                ...                        ...   \n",
       "155                0.0                0.0                        1.0   \n",
       "156                0.0                0.0                        1.0   \n",
       "157                0.0                0.0                        0.0   \n",
       "158                0.0                0.0                        0.0   \n",
       "159                0.0                0.0                        0.0   \n",
       "\n",
       "     Primer contacto_WhatsApp  Condiciones de pago_Completo  \\\n",
       "0                         0.0                           0.0   \n",
       "1                         0.0                           0.0   \n",
       "2                         0.0                           0.0   \n",
       "3                         0.0                           0.0   \n",
       "4                         0.0                           0.0   \n",
       "..                        ...                           ...   \n",
       "155                       0.0                           0.0   \n",
       "156                       0.0                           0.0   \n",
       "157                       1.0                           0.0   \n",
       "158                       1.0                           0.0   \n",
       "159                       1.0                           0.0   \n",
       "\n",
       "     Condiciones de pago_Cuotas  \n",
       "0                           1.0  \n",
       "1                           1.0  \n",
       "2                           1.0  \n",
       "3                           1.0  \n",
       "4                           1.0  \n",
       "..                          ...  \n",
       "155                         1.0  \n",
       "156                         1.0  \n",
       "157                         1.0  \n",
       "158                         1.0  \n",
       "159                         1.0  \n",
       "\n",
       "[160 rows x 17 columns]"
      ]
     },
     "execution_count": 21,
     "metadata": {},
     "output_type": "execute_result"
    }
   ],
   "source": [
    "df = pd.read_csv('address_cleaned.csv')\n",
    "df"
   ]
  },
  {
   "cell_type": "code",
   "execution_count": 22,
   "id": "8702c9f6-4ea3-4aee-a197-28ae44b3d49e",
   "metadata": {},
   "outputs": [
    {
     "data": {
      "text/plain": [
       "0.0    142\n",
       "1.0     18\n",
       "Name: Egresado_Activo, dtype: int64"
      ]
     },
     "execution_count": 22,
     "metadata": {},
     "output_type": "execute_result"
    }
   ],
   "source": [
    "df[\"Egresado_Activo\"].value_counts()"
   ]
  },
  {
   "cell_type": "markdown",
   "id": "38bae1c2-09e0-4e50-b420-dc05bbd78c0a",
   "metadata": {},
   "source": [
    "Se eliminara la columna de egresados activos porque no existe una correlacion con el la columna objetivo. "
   ]
  },
  {
   "cell_type": "code",
   "execution_count": 23,
   "id": "558a8388-5601-4041-93e2-8f45bf025821",
   "metadata": {},
   "outputs": [],
   "source": [
    "df = df.drop(df.loc[df[\"Egresado_Activo\"] == 1].index)"
   ]
  },
  {
   "cell_type": "code",
   "execution_count": 24,
   "id": "a0cc8af7-7858-4974-8d8f-d324d82514fe",
   "metadata": {},
   "outputs": [
    {
     "data": {
      "text/plain": [
       "0.0    142\n",
       "Name: Egresado_Activo, dtype: int64"
      ]
     },
     "execution_count": 24,
     "metadata": {},
     "output_type": "execute_result"
    }
   ],
   "source": [
    "df[\"Egresado_Activo\"].value_counts()"
   ]
  },
  {
   "cell_type": "code",
   "execution_count": 25,
   "id": "5c1d3b11-5877-45f3-8176-a560357a049a",
   "metadata": {},
   "outputs": [
    {
     "data": {
      "text/html": [
       "<div>\n",
       "<style scoped>\n",
       "    .dataframe tbody tr th:only-of-type {\n",
       "        vertical-align: middle;\n",
       "    }\n",
       "\n",
       "    .dataframe tbody tr th {\n",
       "        vertical-align: top;\n",
       "    }\n",
       "\n",
       "    .dataframe thead th {\n",
       "        text-align: right;\n",
       "    }\n",
       "</style>\n",
       "<table border=\"1\" class=\"dataframe\">\n",
       "  <thead>\n",
       "    <tr style=\"text-align: right;\">\n",
       "      <th></th>\n",
       "      <th>Entrenamiento</th>\n",
       "      <th>Email</th>\n",
       "      <th>Precios US</th>\n",
       "      <th>Ubicacion</th>\n",
       "      <th>Incluye pasantia</th>\n",
       "      <th>Metodo de pago</th>\n",
       "      <th>Estatus laboral</th>\n",
       "      <th>Razon de eleccion del bootcamp</th>\n",
       "      <th>Proveedores de bootcamp</th>\n",
       "      <th>Horario de los bootcamps</th>\n",
       "      <th>Egresado_Egresado</th>\n",
       "      <th>Primer contacto_Instagram</th>\n",
       "      <th>Primer contacto_WhatsApp</th>\n",
       "      <th>Condiciones de pago_Completo</th>\n",
       "      <th>Condiciones de pago_Cuotas</th>\n",
       "    </tr>\n",
       "  </thead>\n",
       "  <tbody>\n",
       "    <tr>\n",
       "      <th>0</th>\n",
       "      <td>Bootcamp en Desarrollo Web con C#</td>\n",
       "      <td>gmail.com</td>\n",
       "      <td>2900.0</td>\n",
       "      <td>Distrito Nacional</td>\n",
       "      <td>0</td>\n",
       "      <td>Transferencia</td>\n",
       "      <td>1</td>\n",
       "      <td>Crecimiento laboral</td>\n",
       "      <td>Maestros de Talendig</td>\n",
       "      <td>Lunes, miércoles y viernes de 6:00pm a 8:00 pm</td>\n",
       "      <td>1.0</td>\n",
       "      <td>1.0</td>\n",
       "      <td>0.0</td>\n",
       "      <td>0.0</td>\n",
       "      <td>1.0</td>\n",
       "    </tr>\n",
       "    <tr>\n",
       "      <th>1</th>\n",
       "      <td>Bootcamp en Desarrollo Web con C#</td>\n",
       "      <td>gmail.com</td>\n",
       "      <td>2900.0</td>\n",
       "      <td>Santo Domingo Este</td>\n",
       "      <td>0</td>\n",
       "      <td>Transferencia</td>\n",
       "      <td>1</td>\n",
       "      <td>Crecimiento laboral</td>\n",
       "      <td>Maestros de Talendig</td>\n",
       "      <td>Lunes, miércoles y viernes de 6:00pm a 8:00 pm</td>\n",
       "      <td>0.0</td>\n",
       "      <td>1.0</td>\n",
       "      <td>0.0</td>\n",
       "      <td>0.0</td>\n",
       "      <td>1.0</td>\n",
       "    </tr>\n",
       "    <tr>\n",
       "      <th>2</th>\n",
       "      <td>Bootcamp en Desarrollo Web con C#</td>\n",
       "      <td>gmail.com</td>\n",
       "      <td>2900.0</td>\n",
       "      <td>Distrito Nacional</td>\n",
       "      <td>0</td>\n",
       "      <td>Transferencia</td>\n",
       "      <td>1</td>\n",
       "      <td>Crecimiento laboral</td>\n",
       "      <td>Maestros de Talendig</td>\n",
       "      <td>Lunes, miércoles y viernes de 6:00pm a 8:00 pm</td>\n",
       "      <td>1.0</td>\n",
       "      <td>1.0</td>\n",
       "      <td>0.0</td>\n",
       "      <td>0.0</td>\n",
       "      <td>1.0</td>\n",
       "    </tr>\n",
       "    <tr>\n",
       "      <th>3</th>\n",
       "      <td>Bootcamp en Desarrollo Web con Java</td>\n",
       "      <td>gmail.com</td>\n",
       "      <td>2900.0</td>\n",
       "      <td>Distrito Nacional</td>\n",
       "      <td>0</td>\n",
       "      <td>Transferencia</td>\n",
       "      <td>0</td>\n",
       "      <td>Crecimiento laboral</td>\n",
       "      <td>Maestros de Talendig</td>\n",
       "      <td>Martes, jueves y viernes de 6:00 pm a 8:00 pm</td>\n",
       "      <td>0.0</td>\n",
       "      <td>1.0</td>\n",
       "      <td>0.0</td>\n",
       "      <td>0.0</td>\n",
       "      <td>1.0</td>\n",
       "    </tr>\n",
       "    <tr>\n",
       "      <th>4</th>\n",
       "      <td>Bootcamp en Desarrollo Web con Java</td>\n",
       "      <td>gmail.com</td>\n",
       "      <td>2900.0</td>\n",
       "      <td>Boca Chica</td>\n",
       "      <td>0</td>\n",
       "      <td>Transferencia</td>\n",
       "      <td>1</td>\n",
       "      <td>Crecimiento laboral</td>\n",
       "      <td>Maestros de Talendig</td>\n",
       "      <td>Martes, jueves y viernes de 6:00 pm a 8:00 pm</td>\n",
       "      <td>1.0</td>\n",
       "      <td>1.0</td>\n",
       "      <td>0.0</td>\n",
       "      <td>0.0</td>\n",
       "      <td>1.0</td>\n",
       "    </tr>\n",
       "  </tbody>\n",
       "</table>\n",
       "</div>"
      ],
      "text/plain": [
       "                         Entrenamiento      Email  Precios US  \\\n",
       "0    Bootcamp en Desarrollo Web con C#  gmail.com      2900.0   \n",
       "1    Bootcamp en Desarrollo Web con C#  gmail.com      2900.0   \n",
       "2    Bootcamp en Desarrollo Web con C#  gmail.com      2900.0   \n",
       "3  Bootcamp en Desarrollo Web con Java  gmail.com      2900.0   \n",
       "4  Bootcamp en Desarrollo Web con Java  gmail.com      2900.0   \n",
       "\n",
       "            Ubicacion  Incluye pasantia Metodo de pago  Estatus laboral  \\\n",
       "0   Distrito Nacional                 0  Transferencia                1   \n",
       "1  Santo Domingo Este                 0  Transferencia                1   \n",
       "2   Distrito Nacional                 0  Transferencia                1   \n",
       "3   Distrito Nacional                 0  Transferencia                0   \n",
       "4          Boca Chica                 0  Transferencia                1   \n",
       "\n",
       "  Razon de eleccion del bootcamp Proveedores de bootcamp  \\\n",
       "0            Crecimiento laboral    Maestros de Talendig   \n",
       "1            Crecimiento laboral    Maestros de Talendig   \n",
       "2            Crecimiento laboral    Maestros de Talendig   \n",
       "3            Crecimiento laboral    Maestros de Talendig   \n",
       "4            Crecimiento laboral    Maestros de Talendig   \n",
       "\n",
       "                         Horario de los bootcamps  Egresado_Egresado  \\\n",
       "0  Lunes, miércoles y viernes de 6:00pm a 8:00 pm                1.0   \n",
       "1  Lunes, miércoles y viernes de 6:00pm a 8:00 pm                0.0   \n",
       "2  Lunes, miércoles y viernes de 6:00pm a 8:00 pm                1.0   \n",
       "3   Martes, jueves y viernes de 6:00 pm a 8:00 pm                0.0   \n",
       "4   Martes, jueves y viernes de 6:00 pm a 8:00 pm                1.0   \n",
       "\n",
       "   Primer contacto_Instagram  Primer contacto_WhatsApp  \\\n",
       "0                        1.0                       0.0   \n",
       "1                        1.0                       0.0   \n",
       "2                        1.0                       0.0   \n",
       "3                        1.0                       0.0   \n",
       "4                        1.0                       0.0   \n",
       "\n",
       "   Condiciones de pago_Completo  Condiciones de pago_Cuotas  \n",
       "0                           0.0                         1.0  \n",
       "1                           0.0                         1.0  \n",
       "2                           0.0                         1.0  \n",
       "3                           0.0                         1.0  \n",
       "4                           0.0                         1.0  "
      ]
     },
     "execution_count": 25,
     "metadata": {},
     "output_type": "execute_result"
    }
   ],
   "source": [
    "df1=df.drop(columns=[\"Egresado_Activo\",\"Egresado_Retirado\"])\n",
    "df1.head()"
   ]
  },
  {
   "cell_type": "code",
   "execution_count": 26,
   "id": "ffa6333a-7cd5-4e88-8413-c7777f598ad6",
   "metadata": {},
   "outputs": [
    {
     "data": {
      "text/plain": [
       "(142, 15)"
      ]
     },
     "execution_count": 26,
     "metadata": {},
     "output_type": "execute_result"
    }
   ],
   "source": [
    "df1.shape"
   ]
  },
  {
   "cell_type": "code",
   "execution_count": 27,
   "id": "b3fe3845-0ded-4763-8898-006045a248a8",
   "metadata": {},
   "outputs": [
    {
     "data": {
      "text/plain": [
       "Entrenamiento                     0\n",
       "Email                             0\n",
       "Precios US                        0\n",
       "Ubicacion                         0\n",
       "Incluye pasantia                  0\n",
       "Metodo de pago                    0\n",
       "Estatus laboral                   0\n",
       "Razon de eleccion del bootcamp    0\n",
       "Proveedores de bootcamp           0\n",
       "Horario de los bootcamps          0\n",
       "Egresado_Egresado                 0\n",
       "Primer contacto_Instagram         0\n",
       "Primer contacto_WhatsApp          0\n",
       "Condiciones de pago_Completo      0\n",
       "Condiciones de pago_Cuotas        0\n",
       "dtype: int64"
      ]
     },
     "execution_count": 27,
     "metadata": {},
     "output_type": "execute_result"
    }
   ],
   "source": [
    "df1.isna().sum()"
   ]
  },
  {
   "cell_type": "markdown",
   "id": "bc023004-ee80-4968-9fd1-fe592ace9b22",
   "metadata": {
    "tags": []
   },
   "source": [
    "## TRAIN TEST SPLIT"
   ]
  },
  {
   "cell_type": "code",
   "execution_count": 28,
   "id": "52508f12-5936-4361-a361-dfa52becce68",
   "metadata": {},
   "outputs": [
    {
     "name": "stdout",
     "output_type": "stream",
     "text": [
      "Tamaño del conjunto de entrenamiento (X_train): 99\n",
      "Tamaño del conjunto de validación (X_val): 21\n",
      "Tamaño del conjunto de prueba (X_test): 22\n",
      "Tamaño del conjunto de entrenamiento (y_train): 99\n",
      "Tamaño del conjunto de validación (y_val): 21\n",
      "Tamaño del conjunto de prueba (y_test): 22\n"
     ]
    }
   ],
   "source": [
    "from sklearn.model_selection import train_test_split\n",
    "\n",
    "X = df1.drop('Egresado_Egresado', axis=1)\n",
    "y = df1['Egresado_Egresado']\n",
    "\n",
    "# Dividir los datos en conjuntos de entrenamiento, validación y prueba\n",
    "# Primero, dividimos en entrenamiento y prueba\n",
    "X_train, X_test, y_train, y_test = train_test_split(X, y, test_size=0.3, random_state=42, stratify=y)\n",
    "\n",
    "# Luego, dividimos el conjunto de prueba en validación y prueba\n",
    "X_val, X_test, y_val, y_test = train_test_split(X_test, y_test, test_size=0.5, random_state=42, stratify=y_test)\n",
    "\n",
    "# Verificar los tamaños de los conjuntos resultantes\n",
    "print(\"Tamaño del conjunto de entrenamiento (X_train):\", len(X_train))\n",
    "print(\"Tamaño del conjunto de validación (X_val):\", len(X_val))\n",
    "print(\"Tamaño del conjunto de prueba (X_test):\", len(X_test))\n",
    "print(\"Tamaño del conjunto de entrenamiento (y_train):\", len(y_train))\n",
    "print(\"Tamaño del conjunto de validación (y_val):\", len(y_val))\n",
    "print(\"Tamaño del conjunto de prueba (y_test):\", len(y_test))"
   ]
  },
  {
   "cell_type": "code",
   "execution_count": 29,
   "id": "8fcc0460-eb24-440a-96c3-61a1e6fea91c",
   "metadata": {},
   "outputs": [
    {
     "data": {
      "text/plain": [
       "(22, 14)"
      ]
     },
     "execution_count": 29,
     "metadata": {},
     "output_type": "execute_result"
    }
   ],
   "source": [
    "X_test.shape"
   ]
  },
  {
   "cell_type": "code",
   "execution_count": 30,
   "id": "6ff13a05-0c29-4364-8c7d-c8fc6418fb20",
   "metadata": {},
   "outputs": [
    {
     "data": {
      "text/plain": [
       "(99, 14)"
      ]
     },
     "execution_count": 30,
     "metadata": {},
     "output_type": "execute_result"
    }
   ],
   "source": [
    "X_train.shape"
   ]
  },
  {
   "cell_type": "markdown",
   "id": "972dc9a5-238e-4a15-ab40-d4b6e45d7c1a",
   "metadata": {
    "tags": []
   },
   "source": [
    "## PREPROCESING"
   ]
  },
  {
   "cell_type": "code",
   "execution_count": 31,
   "id": "370f0e20-ba86-4a5f-8dbb-9fca9d38f996",
   "metadata": {
    "tags": []
   },
   "outputs": [],
   "source": [
    "from sklearn.preprocessing import StandardScaler, OneHotEncoder\n",
    "from sklearn.impute import SimpleImputer\n",
    "from sklearn.compose import make_column_transformer, make_column_selector\n",
    "from sklearn.pipeline import make_pipeline"
   ]
  },
  {
   "cell_type": "code",
   "execution_count": 32,
   "id": "345ded80-dfb4-4f50-b8d9-8e3ade0d9bbc",
   "metadata": {
    "tags": []
   },
   "outputs": [],
   "source": [
    "#Selectores\n",
    "cat_selector = make_column_selector(dtype_include='object')\n",
    "num_selector = make_column_selector(dtype_include='number')\n",
    "#Escaladores\n",
    "scaler = StandardScaler()\n",
    "ohe = OneHotEncoder(handle_unknown='ignore')\n",
    "#Pipe\n",
    "num_tuple = (scaler, num_selector)\n",
    "cat_tuple = (ohe, cat_selector)\n",
    "#Transform\n",
    "col_transformer = make_column_transformer(num_tuple, cat_tuple, remainder = 'passthrough')\n",
    "#Fit\n",
    "col_transformer.fit(X_train)\n",
    "# transform train and test\n",
    "X_train_processed = col_transformer.transform(X_train)\n",
    "X_valid_processed = col_transformer.transform(X_val)\n",
    "X_test_processed = col_transformer.transform(X_test)"
   ]
  },
  {
   "cell_type": "markdown",
   "id": "2b82bac5-3f4d-43f1-943f-b7a4dbe50a9e",
   "metadata": {
    "tags": []
   },
   "source": [
    "max_depth_range = list(range(0, 25 ))\n",
    "x = 1\n",
    "r2 = []\n",
    "for depth in max_depth_range:\n",
    "    dec_tree = KNeighborsClassifier(n_neighbors=x)\n",
    "    dec_tree.fit(X_train_processed, y_train)\n",
    "    score = dec_tree.score(X_valid_processed, y_val)\n",
    "    r2.append(score)\n",
    "    x = x+1## Modelos"
   ]
  },
  {
   "cell_type": "code",
   "execution_count": 33,
   "id": "e0619f8a-f417-44a1-a39e-41acd4cee112",
   "metadata": {},
   "outputs": [
    {
     "ename": "NameError",
     "evalue": "name 'dec_tree' is not defined",
     "output_type": "error",
     "traceback": [
      "\u001b[0;31m---------------------------------------------------------------------------\u001b[0m",
      "\u001b[0;31mNameError\u001b[0m                                 Traceback (most recent call last)",
      "\u001b[0;32m/var/tmp/ipykernel_5055/3701924254.py\u001b[0m in \u001b[0;36m<module>\u001b[0;34m\u001b[0m\n\u001b[1;32m      5\u001b[0m     \u001b[0mKnnVal\u001b[0m \u001b[0;34m=\u001b[0m \u001b[0mKNeighborsClassifier\u001b[0m\u001b[0;34m(\u001b[0m\u001b[0mn_neighbors\u001b[0m\u001b[0;34m=\u001b[0m\u001b[0mx\u001b[0m\u001b[0;34m)\u001b[0m\u001b[0;34m\u001b[0m\u001b[0;34m\u001b[0m\u001b[0m\n\u001b[1;32m      6\u001b[0m     \u001b[0mKnnVal\u001b[0m\u001b[0;34m.\u001b[0m\u001b[0mfit\u001b[0m\u001b[0;34m(\u001b[0m\u001b[0mX_train_processed\u001b[0m\u001b[0;34m,\u001b[0m \u001b[0my_train\u001b[0m\u001b[0;34m)\u001b[0m\u001b[0;34m\u001b[0m\u001b[0;34m\u001b[0m\u001b[0m\n\u001b[0;32m----> 7\u001b[0;31m     \u001b[0mscore\u001b[0m \u001b[0;34m=\u001b[0m \u001b[0mdec_tree\u001b[0m\u001b[0;34m.\u001b[0m\u001b[0mscore\u001b[0m\u001b[0;34m(\u001b[0m\u001b[0mX_valid_processed\u001b[0m\u001b[0;34m,\u001b[0m \u001b[0my_val\u001b[0m\u001b[0;34m)\u001b[0m\u001b[0;34m\u001b[0m\u001b[0;34m\u001b[0m\u001b[0m\n\u001b[0m\u001b[1;32m      8\u001b[0m     \u001b[0mr2\u001b[0m\u001b[0;34m.\u001b[0m\u001b[0mappend\u001b[0m\u001b[0;34m(\u001b[0m\u001b[0mscore\u001b[0m\u001b[0;34m)\u001b[0m\u001b[0;34m\u001b[0m\u001b[0;34m\u001b[0m\u001b[0m\n\u001b[1;32m      9\u001b[0m     \u001b[0mx\u001b[0m \u001b[0;34m=\u001b[0m \u001b[0mx\u001b[0m\u001b[0;34m+\u001b[0m\u001b[0;36m1\u001b[0m\u001b[0;34m\u001b[0m\u001b[0;34m\u001b[0m\u001b[0m\n",
      "\u001b[0;31mNameError\u001b[0m: name 'dec_tree' is not defined"
     ]
    }
   ],
   "source": [
    "max_depth_range = list(range(0, 15 ))\n",
    "x = 1\n",
    "r2 = []\n",
    "for depth in max_depth_range:\n",
    "    KnnVal = KNeighborsClassifier(n_neighbors=x)\n",
    "    KnnVal.fit(X_train_processed, y_train)\n",
    "    score = .score(X_valid_processed, y_val)\n",
    "    r2.append(score)\n",
    "    x = x+1"
   ]
  },
  {
   "cell_type": "code",
   "execution_count": 18,
   "id": "78345524-63e0-4906-baef-d4ab61c9fdd8",
   "metadata": {},
   "outputs": [
    {
     "ename": "ValueError",
     "evalue": "x and y must have same first dimension, but have shapes (15,) and (0,)",
     "output_type": "error",
     "traceback": [
      "\u001b[0;31m---------------------------------------------------------------------------\u001b[0m",
      "\u001b[0;31mValueError\u001b[0m                                Traceback (most recent call last)",
      "\u001b[0;32m/var/tmp/ipykernel_5055/886648016.py\u001b[0m in \u001b[0;36m<module>\u001b[0;34m\u001b[0m\n\u001b[0;32m----> 1\u001b[0;31m \u001b[0mplt\u001b[0m\u001b[0;34m.\u001b[0m\u001b[0mplot\u001b[0m\u001b[0;34m(\u001b[0m\u001b[0mmax_depth_range\u001b[0m\u001b[0;34m,\u001b[0m \u001b[0mr2\u001b[0m\u001b[0;34m)\u001b[0m\u001b[0;34m\u001b[0m\u001b[0;34m\u001b[0m\u001b[0m\n\u001b[0m\u001b[1;32m      2\u001b[0m \u001b[0mplt\u001b[0m\u001b[0;34m.\u001b[0m\u001b[0mxlabel\u001b[0m\u001b[0;34m(\u001b[0m\u001b[0;34m'max_depth'\u001b[0m\u001b[0;34m)\u001b[0m\u001b[0;34m\u001b[0m\u001b[0;34m\u001b[0m\u001b[0m\n\u001b[1;32m      3\u001b[0m \u001b[0mplt\u001b[0m\u001b[0;34m.\u001b[0m\u001b[0mylabel\u001b[0m\u001b[0;34m(\u001b[0m\u001b[0;34m'R2'\u001b[0m\u001b[0;34m)\u001b[0m\u001b[0;34m;\u001b[0m\u001b[0;34m\u001b[0m\u001b[0;34m\u001b[0m\u001b[0m\n",
      "\u001b[0;32m/opt/conda/lib/python3.7/site-packages/matplotlib/pyplot.py\u001b[0m in \u001b[0;36mplot\u001b[0;34m(scalex, scaley, data, *args, **kwargs)\u001b[0m\n\u001b[1;32m   2767\u001b[0m     return gca().plot(\n\u001b[1;32m   2768\u001b[0m         \u001b[0;34m*\u001b[0m\u001b[0margs\u001b[0m\u001b[0;34m,\u001b[0m \u001b[0mscalex\u001b[0m\u001b[0;34m=\u001b[0m\u001b[0mscalex\u001b[0m\u001b[0;34m,\u001b[0m \u001b[0mscaley\u001b[0m\u001b[0;34m=\u001b[0m\u001b[0mscaley\u001b[0m\u001b[0;34m,\u001b[0m\u001b[0;34m\u001b[0m\u001b[0;34m\u001b[0m\u001b[0m\n\u001b[0;32m-> 2769\u001b[0;31m         **({\"data\": data} if data is not None else {}), **kwargs)\n\u001b[0m\u001b[1;32m   2770\u001b[0m \u001b[0;34m\u001b[0m\u001b[0m\n\u001b[1;32m   2771\u001b[0m \u001b[0;34m\u001b[0m\u001b[0m\n",
      "\u001b[0;32m/opt/conda/lib/python3.7/site-packages/matplotlib/axes/_axes.py\u001b[0m in \u001b[0;36mplot\u001b[0;34m(self, scalex, scaley, data, *args, **kwargs)\u001b[0m\n\u001b[1;32m   1633\u001b[0m         \"\"\"\n\u001b[1;32m   1634\u001b[0m         \u001b[0mkwargs\u001b[0m \u001b[0;34m=\u001b[0m \u001b[0mcbook\u001b[0m\u001b[0;34m.\u001b[0m\u001b[0mnormalize_kwargs\u001b[0m\u001b[0;34m(\u001b[0m\u001b[0mkwargs\u001b[0m\u001b[0;34m,\u001b[0m \u001b[0mmlines\u001b[0m\u001b[0;34m.\u001b[0m\u001b[0mLine2D\u001b[0m\u001b[0;34m)\u001b[0m\u001b[0;34m\u001b[0m\u001b[0;34m\u001b[0m\u001b[0m\n\u001b[0;32m-> 1635\u001b[0;31m         \u001b[0mlines\u001b[0m \u001b[0;34m=\u001b[0m \u001b[0;34m[\u001b[0m\u001b[0;34m*\u001b[0m\u001b[0mself\u001b[0m\u001b[0;34m.\u001b[0m\u001b[0m_get_lines\u001b[0m\u001b[0;34m(\u001b[0m\u001b[0;34m*\u001b[0m\u001b[0margs\u001b[0m\u001b[0;34m,\u001b[0m \u001b[0mdata\u001b[0m\u001b[0;34m=\u001b[0m\u001b[0mdata\u001b[0m\u001b[0;34m,\u001b[0m \u001b[0;34m**\u001b[0m\u001b[0mkwargs\u001b[0m\u001b[0;34m)\u001b[0m\u001b[0;34m]\u001b[0m\u001b[0;34m\u001b[0m\u001b[0;34m\u001b[0m\u001b[0m\n\u001b[0m\u001b[1;32m   1636\u001b[0m         \u001b[0;32mfor\u001b[0m \u001b[0mline\u001b[0m \u001b[0;32min\u001b[0m \u001b[0mlines\u001b[0m\u001b[0;34m:\u001b[0m\u001b[0;34m\u001b[0m\u001b[0;34m\u001b[0m\u001b[0m\n\u001b[1;32m   1637\u001b[0m             \u001b[0mself\u001b[0m\u001b[0;34m.\u001b[0m\u001b[0madd_line\u001b[0m\u001b[0;34m(\u001b[0m\u001b[0mline\u001b[0m\u001b[0;34m)\u001b[0m\u001b[0;34m\u001b[0m\u001b[0;34m\u001b[0m\u001b[0m\n",
      "\u001b[0;32m/opt/conda/lib/python3.7/site-packages/matplotlib/axes/_base.py\u001b[0m in \u001b[0;36m__call__\u001b[0;34m(self, data, *args, **kwargs)\u001b[0m\n\u001b[1;32m    310\u001b[0m                 \u001b[0mthis\u001b[0m \u001b[0;34m+=\u001b[0m \u001b[0margs\u001b[0m\u001b[0;34m[\u001b[0m\u001b[0;36m0\u001b[0m\u001b[0;34m]\u001b[0m\u001b[0;34m,\u001b[0m\u001b[0;34m\u001b[0m\u001b[0;34m\u001b[0m\u001b[0m\n\u001b[1;32m    311\u001b[0m                 \u001b[0margs\u001b[0m \u001b[0;34m=\u001b[0m \u001b[0margs\u001b[0m\u001b[0;34m[\u001b[0m\u001b[0;36m1\u001b[0m\u001b[0;34m:\u001b[0m\u001b[0;34m]\u001b[0m\u001b[0;34m\u001b[0m\u001b[0;34m\u001b[0m\u001b[0m\n\u001b[0;32m--> 312\u001b[0;31m             \u001b[0;32myield\u001b[0m \u001b[0;32mfrom\u001b[0m \u001b[0mself\u001b[0m\u001b[0;34m.\u001b[0m\u001b[0m_plot_args\u001b[0m\u001b[0;34m(\u001b[0m\u001b[0mthis\u001b[0m\u001b[0;34m,\u001b[0m \u001b[0mkwargs\u001b[0m\u001b[0;34m)\u001b[0m\u001b[0;34m\u001b[0m\u001b[0;34m\u001b[0m\u001b[0m\n\u001b[0m\u001b[1;32m    313\u001b[0m \u001b[0;34m\u001b[0m\u001b[0m\n\u001b[1;32m    314\u001b[0m     \u001b[0;32mdef\u001b[0m \u001b[0mget_next_color\u001b[0m\u001b[0;34m(\u001b[0m\u001b[0mself\u001b[0m\u001b[0;34m)\u001b[0m\u001b[0;34m:\u001b[0m\u001b[0;34m\u001b[0m\u001b[0;34m\u001b[0m\u001b[0m\n",
      "\u001b[0;32m/opt/conda/lib/python3.7/site-packages/matplotlib/axes/_base.py\u001b[0m in \u001b[0;36m_plot_args\u001b[0;34m(self, tup, kwargs, return_kwargs)\u001b[0m\n\u001b[1;32m    496\u001b[0m \u001b[0;34m\u001b[0m\u001b[0m\n\u001b[1;32m    497\u001b[0m         \u001b[0;32mif\u001b[0m \u001b[0mx\u001b[0m\u001b[0;34m.\u001b[0m\u001b[0mshape\u001b[0m\u001b[0;34m[\u001b[0m\u001b[0;36m0\u001b[0m\u001b[0;34m]\u001b[0m \u001b[0;34m!=\u001b[0m \u001b[0my\u001b[0m\u001b[0;34m.\u001b[0m\u001b[0mshape\u001b[0m\u001b[0;34m[\u001b[0m\u001b[0;36m0\u001b[0m\u001b[0;34m]\u001b[0m\u001b[0;34m:\u001b[0m\u001b[0;34m\u001b[0m\u001b[0;34m\u001b[0m\u001b[0m\n\u001b[0;32m--> 498\u001b[0;31m             raise ValueError(f\"x and y must have same first dimension, but \"\n\u001b[0m\u001b[1;32m    499\u001b[0m                              f\"have shapes {x.shape} and {y.shape}\")\n\u001b[1;32m    500\u001b[0m         \u001b[0;32mif\u001b[0m \u001b[0mx\u001b[0m\u001b[0;34m.\u001b[0m\u001b[0mndim\u001b[0m \u001b[0;34m>\u001b[0m \u001b[0;36m2\u001b[0m \u001b[0;32mor\u001b[0m \u001b[0my\u001b[0m\u001b[0;34m.\u001b[0m\u001b[0mndim\u001b[0m \u001b[0;34m>\u001b[0m \u001b[0;36m2\u001b[0m\u001b[0;34m:\u001b[0m\u001b[0;34m\u001b[0m\u001b[0;34m\u001b[0m\u001b[0m\n",
      "\u001b[0;31mValueError\u001b[0m: x and y must have same first dimension, but have shapes (15,) and (0,)"
     ]
    },
    {
     "data": {
      "image/png": "[encoded data removed]",
      "text/plain": [
       "<Figure size 640x480 with 1 Axes>"
      ]
     },
     "metadata": {},
     "output_type": "display_data"
    }
   ],
   "source": [
    "plt.plot(max_depth_range, r2)\n",
    "plt.xlabel('max_depth')\n",
    "plt.ylabel('R2');"
   ]
  },
  {
   "cell_type": "code",
   "execution_count": 19,
   "id": "694d4d50-9ba2-4d30-ab08-8d870701ae18",
   "metadata": {},
   "outputs": [],
   "source": [
    "from sklearn.neighbors import KNeighborsClassifier"
   ]
  },
  {
   "cell_type": "code",
   "execution_count": 23,
   "id": "5f2d4cc0-75c9-46e1-8db6-8246564aaade",
   "metadata": {},
   "outputs": [
    {
     "data": {
      "text/plain": [
       "0.6666666666666666"
      ]
     },
     "execution_count": 23,
     "metadata": {},
     "output_type": "execute_result"
    }
   ],
   "source": [
    "knn = KNeighborsClassifier(n_neighbors=1)\n",
    "knn.fit(X_train_processed, y_train)\n",
    "knn.score(X_valid_processed, y_val)"
   ]
  },
  {
   "cell_type": "code",
   "execution_count": 24,
   "id": "d4ed17ca-13a5-442d-8fea-c5ce8e4b97a0",
   "metadata": {},
   "outputs": [
    {
     "name": "stdout",
     "output_type": "stream",
     "text": [
      "              precision    recall  f1-score   support\n",
      "\n",
      "         0.0       0.00      0.00      0.00         4\n",
      "         1.0       0.78      0.82      0.80        17\n",
      "\n",
      "    accuracy                           0.67        21\n",
      "   macro avg       0.39      0.41      0.40        21\n",
      "weighted avg       0.63      0.67      0.65        21\n",
      "\n"
     ]
    }
   ],
   "source": [
    "y_pred = knn.predict(X_valid_processed)\n",
    "\n",
    "\n",
    "report = classification_report(y_val, y_pred)\n",
    "print(report)"
   ]
  },
  {
   "cell_type": "code",
   "execution_count": 25,
   "id": "c99b7ee9-d070-468f-aa41-aa75c4a33dcd",
   "metadata": {},
   "outputs": [
    {
     "data": {
      "image/png": "[encoded data removed]",
      "text/plain": [
       "<Figure size 640x480 with 2 Axes>"
      ]
     },
     "metadata": {},
     "output_type": "display_data"
    }
   ],
   "source": [
    "confusion_mat = confusion_matrix(y_val, y_pred)\n",
    "df_confusion = pd.DataFrame(confusion_mat, columns=['Predicted 0', 'Predicted 1'], index=['Actual 0', 'Actual 1'])\n",
    "sns.heatmap(df_confusion, annot=True, fmt='d', cmap='Blues')\n",
    "plt.xlabel('Predicted')\n",
    "plt.ylabel('Actual')\n",
    "plt.show()"
   ]
  },
  {
   "cell_type": "code",
   "execution_count": null,
   "id": "ab4b68cd-6018-436d-b767-1ed3268d4257",
   "metadata": {},
   "outputs": [],
   "source": []
  },
  {
   "cell_type": "code",
   "execution_count": 28,
   "id": "ea03ce39-f985-4017-9a15-5bb37d5962df",
   "metadata": {},
   "outputs": [
    {
     "data": {
      "text/plain": [
       "0.7727272727272727"
      ]
     },
     "execution_count": 28,
     "metadata": {},
     "output_type": "execute_result"
    }
   ],
   "source": [
    "knn.score(X_test_processed, y_test)"
   ]
  },
  {
   "cell_type": "code",
   "execution_count": 26,
   "id": "c311c145-722b-4f95-8397-2c343c974570",
   "metadata": {},
   "outputs": [
    {
     "name": "stdout",
     "output_type": "stream",
     "text": [
      "              precision    recall  f1-score   support\n",
      "\n",
      "         0.0       0.00      0.00      0.00         4\n",
      "         1.0       0.81      0.94      0.87        18\n",
      "\n",
      "    accuracy                           0.77        22\n",
      "   macro avg       0.40      0.47      0.44        22\n",
      "weighted avg       0.66      0.77      0.71        22\n",
      "\n"
     ]
    }
   ],
   "source": [
    "y_pred = knn.predict(X_test_processed)\n",
    "\n",
    "\n",
    "report = classification_report(y_test, y_pred)\n",
    "print(report)"
   ]
  },
  {
   "cell_type": "code",
   "execution_count": 27,
   "id": "8b7088fa-1a83-4d3a-a366-c5ca72461902",
   "metadata": {},
   "outputs": [
    {
     "data": {
      "image/png": "[encoded data removed]",
      "text/plain": [
       "<Figure size 640x480 with 2 Axes>"
      ]
     },
     "metadata": {},
     "output_type": "display_data"
    }
   ],
   "source": [
    "confusion_mat = confusion_matrix(y_test, y_pred)\n",
    "df_confusion = pd.DataFrame(confusion_mat, columns=['Predicted 0', 'Predicted 1'], index=['Actual 0', 'Actual 1'])\n",
    "sns.heatmap(df_confusion, annot=True, fmt='d', cmap='Blues')\n",
    "plt.xlabel('Predicted')\n",
    "plt.ylabel('Actual')\n",
    "plt.show()"
   ]
  },
  {
   "cell_type": "code",
   "execution_count": null,
   "id": "a6a37b1c-126e-410d-b6ea-275608d22094",
   "metadata": {},
   "outputs": [],
   "source": []
  },
  {
   "cell_type": "code",
   "execution_count": 92,
   "id": "d9d86df6-624e-49f3-93db-16dbedc67ecb",
   "metadata": {},
   "outputs": [],
   "source": [
    "class Models:\n",
    "\n",
    "    def __init__(self,Xtrain_processed,Xtest_processed, ytrain, ytest):\n",
    "\n",
    "        self.xtrain = Xtrain_processed\n",
    "        self.xtest = Xtest_processed\n",
    "        self.ytrain = ytrain\n",
    "        self.ytest = ytest\n",
    "\n",
    "  \n",
    "    def randomForestModel(self,estimators=100,depth=1):\n",
    "    \n",
    "        for inc in range(0,depth):\n",
    "            lgreg = RandomForestRegressor(n_estimators=estimators, max_depth=inc+1)\n",
    "            lgreg.fit(X_train_processed,y_train)\n",
    "\n",
    "            X_train_lg = lgreg.score(self.xtrain, y_train)\n",
    "            X_test_lg = lgreg.score(self.xtest, y_test)\n",
    "\n",
    "            pred = lgreg.predict(self.xtrain)\n",
    "\n",
    "            print('\\n************Max depth #',inc+1,'**************')\n",
    "            print('\\nRendimiendo datos de entremaniento:',X_train_lg, '\\n')\n",
    "            print('Rendimiendo datos de prueba:', X_test_lg, '\\n')\n",
    "            print(' R2 coeficiente de los datos de entrenamiento: ',r2_score(self.ytrain, pred),'\\n')       \n",
    "            print('\\nMean absolute error: \\n',mean_absolute_error(pred,self.ytrain))\n",
    "            print('\\nMean squared error: \\n',mean_squared_error(pred,self.ytrain))\n",
    "            print('\\nResidual sum of squares: \\n',mean_squared_error(pred,self.ytrain) * len(pred))\n",
    "            print('\\nRoot Mean Squared Error: \\n',mean_squared_error(pred,self.ytrain, squared=False))\n",
    "            print('Predicciones de los datos de entrenamiento: \\n\\n',pred)\n",
    "\n",
    "        return pred\n",
    "\n",
    "    def LinealRegression(self):\n",
    "\n",
    "        reg = LinearRegression()\n",
    "        reg.fit(self.xtrain,self.ytrain)\n",
    "\n",
    "        train_score = reg.score(self.xtrain, self.ytrain)\n",
    "        test_score =  reg.score(self.xtest, self.ytest)\n",
    "\n",
    "        ypred_train = reg.predict(self.xtrain)\n",
    "\n",
    "\n",
    "        r2_train = r2_score(self.ytrain, ypred_train)\n",
    "\n",
    "        print('Rendimiendo datos de entremaniento:',train_score, '\\n')\n",
    "        print('Rendimiendo datos de prueba:', test_score, '\\n')\n",
    "        print(' R2 coeficiente de los datos de entrenamiento: ',r2_train,'\\n')\n",
    "        print('Predicciones de los datos de entrenamiento: \\n\\n',ypred_train)\n",
    "        print('\\nMean absolute error: \\n',mean_absolute_error(ypred_train,self.ytrain))\n",
    "        print('\\nMean squared error: \\n',mean_squared_error(ypred_train,self.ytrain))\n",
    "        print('\\nRoot Mean Squared Error: \\n',mean_squared_error(ypred_train,self.ytrain, squared=False))\n",
    "\n",
    "\n",
    "        return ypred_train\n",
    "        \n",
    "    def knn(self,neighbors=1):\n",
    "\n",
    "        for inc in range(0,neighbors):\n",
    "            knn =  KNeighborsRegressor(n_neighbors=inc+1)\n",
    "            knn.fit(self.xtrain, y_train)\n",
    "            knn_score_train = knn.score(self.xtrain, self.ytrain)\n",
    "            knn_score_test = knn.score(self.xtest, self.ytest)\n",
    "            \n",
    "            knn_predict =  knn.predict(self.xtest)\n",
    "            knn_accuracy = accuracy_score(self.ytest,knn_predict)\n",
    "            print('\\n************N neighbors #',inc+1,'**************')\n",
    "            print('\\nRendimiendo datos de entremaniento:',knn_score_train, '\\n')\n",
    "            print('Rendimiendo datos de prueba:', knn_score_test, '\\n')\n",
    "            print('Predicciones de los datos de entrenamiento: \\n\\n',knn_predict)\n",
    "            print('Precicion de los datos : \\n\\n',knn_accuracy)\n",
    "\n",
    "        return knn_predict\n",
    "\n",
    "chooseModel = Models(X_train_processed,X_test_processed, y_train, y_test)"
   ]
  },
  {
   "cell_type": "code",
   "execution_count": 94,
   "id": "f93fb5ec-c61e-4e89-a890-1f5909a7feea",
   "metadata": {},
   "outputs": [
    {
     "name": "stdout",
     "output_type": "stream",
     "text": [
      "\n",
      "************N neighbors # 1 **************\n",
      "\n",
      "Rendimiendo datos de entremaniento: 1.0 \n",
      "\n",
      "Rendimiendo datos de prueba: 0.6536796536796536 \n",
      "\n",
      "Predicciones de los datos de entrenamiento: \n",
      "\n",
      " [[1.]\n",
      " [1.]\n",
      " [1.]\n",
      " [1.]\n",
      " [1.]\n",
      " [0.]\n",
      " [1.]\n",
      " [1.]\n",
      " [1.]\n",
      " [1.]\n",
      " [1.]\n",
      " [1.]\n",
      " [1.]\n",
      " [1.]\n",
      " [1.]\n",
      " [1.]\n",
      " [1.]\n",
      " [0.]\n",
      " [1.]\n",
      " [1.]\n",
      " [1.]\n",
      " [1.]\n",
      " [1.]\n",
      " [0.]\n",
      " [1.]\n",
      " [0.]\n",
      " [1.]\n",
      " [1.]\n",
      " [1.]\n",
      " [0.]\n",
      " [1.]\n",
      " [1.]\n",
      " [1.]\n",
      " [1.]\n",
      " [1.]\n",
      " [1.]\n",
      " [1.]\n",
      " [1.]\n",
      " [1.]\n",
      " [1.]]\n",
      "Precicion de los datos : \n",
      "\n",
      " 0.95\n",
      "\n",
      "************N neighbors # 2 **************\n",
      "\n",
      "Rendimiendo datos de entremaniento: 0.9801587301587301 \n",
      "\n",
      "Rendimiendo datos de prueba: 0.6536796536796536 \n",
      "\n",
      "Predicciones de los datos de entrenamiento: \n",
      "\n",
      " [[1.]\n",
      " [1.]\n",
      " [1.]\n",
      " [1.]\n",
      " [1.]\n",
      " [0.]\n",
      " [1.]\n",
      " [1.]\n",
      " [1.]\n",
      " [1.]\n",
      " [1.]\n",
      " [1.]\n",
      " [1.]\n",
      " [1.]\n",
      " [1.]\n",
      " [1.]\n",
      " [1.]\n",
      " [0.]\n",
      " [1.]\n",
      " [1.]\n",
      " [1.]\n",
      " [1.]\n",
      " [1.]\n",
      " [0.]\n",
      " [1.]\n",
      " [0.]\n",
      " [1.]\n",
      " [1.]\n",
      " [1.]\n",
      " [0.]\n",
      " [1.]\n",
      " [1.]\n",
      " [1.]\n",
      " [1.]\n",
      " [1.]\n",
      " [1.]\n",
      " [1.]\n",
      " [1.]\n",
      " [1.]\n",
      " [1.]]\n",
      "Precicion de los datos : \n",
      "\n",
      " 0.95\n"
     ]
    },
    {
     "ename": "ValueError",
     "evalue": "Classification metrics can't handle a mix of binary and continuous targets",
     "output_type": "error",
     "traceback": [
      "\u001b[0;31m---------------------------------------------------------------------------\u001b[0m",
      "\u001b[0;31mValueError\u001b[0m                                Traceback (most recent call last)",
      "\u001b[0;32m/var/tmp/ipykernel_18905/4139889952.py\u001b[0m in \u001b[0;36m<module>\u001b[0;34m\u001b[0m\n\u001b[0;32m----> 1\u001b[0;31m \u001b[0mchooseModel\u001b[0m\u001b[0;34m.\u001b[0m\u001b[0mknn\u001b[0m\u001b[0;34m(\u001b[0m\u001b[0;36m30\u001b[0m\u001b[0;34m)\u001b[0m\u001b[0;34m\u001b[0m\u001b[0;34m\u001b[0m\u001b[0m\n\u001b[0m",
      "\u001b[0;32m/var/tmp/ipykernel_18905/2254633248.py\u001b[0m in \u001b[0;36mknn\u001b[0;34m(self, neighbors)\u001b[0m\n\u001b[1;32m     65\u001b[0m \u001b[0;34m\u001b[0m\u001b[0m\n\u001b[1;32m     66\u001b[0m             \u001b[0mknn_predict\u001b[0m \u001b[0;34m=\u001b[0m  \u001b[0mknn\u001b[0m\u001b[0;34m.\u001b[0m\u001b[0mpredict\u001b[0m\u001b[0;34m(\u001b[0m\u001b[0mself\u001b[0m\u001b[0;34m.\u001b[0m\u001b[0mxtest\u001b[0m\u001b[0;34m)\u001b[0m\u001b[0;34m\u001b[0m\u001b[0;34m\u001b[0m\u001b[0m\n\u001b[0;32m---> 67\u001b[0;31m             \u001b[0mknn_accuracy\u001b[0m \u001b[0;34m=\u001b[0m \u001b[0maccuracy_score\u001b[0m\u001b[0;34m(\u001b[0m\u001b[0mself\u001b[0m\u001b[0;34m.\u001b[0m\u001b[0mytest\u001b[0m\u001b[0;34m,\u001b[0m\u001b[0mknn_predict\u001b[0m\u001b[0;34m)\u001b[0m\u001b[0;34m\u001b[0m\u001b[0;34m\u001b[0m\u001b[0m\n\u001b[0m\u001b[1;32m     68\u001b[0m             \u001b[0mprint\u001b[0m\u001b[0;34m(\u001b[0m\u001b[0;34m'\\n************N neighbors #'\u001b[0m\u001b[0;34m,\u001b[0m\u001b[0minc\u001b[0m\u001b[0;34m+\u001b[0m\u001b[0;36m1\u001b[0m\u001b[0;34m,\u001b[0m\u001b[0;34m'**************'\u001b[0m\u001b[0;34m)\u001b[0m\u001b[0;34m\u001b[0m\u001b[0;34m\u001b[0m\u001b[0m\n\u001b[1;32m     69\u001b[0m             \u001b[0mprint\u001b[0m\u001b[0;34m(\u001b[0m\u001b[0;34m'\\nRendimiendo datos de entremaniento:'\u001b[0m\u001b[0;34m,\u001b[0m\u001b[0mknn_score_train\u001b[0m\u001b[0;34m,\u001b[0m \u001b[0;34m'\\n'\u001b[0m\u001b[0;34m)\u001b[0m\u001b[0;34m\u001b[0m\u001b[0;34m\u001b[0m\u001b[0m\n",
      "\u001b[0;32m/opt/conda/lib/python3.7/site-packages/sklearn/metrics/_classification.py\u001b[0m in \u001b[0;36maccuracy_score\u001b[0;34m(y_true, y_pred, normalize, sample_weight)\u001b[0m\n\u001b[1;32m    209\u001b[0m \u001b[0;34m\u001b[0m\u001b[0m\n\u001b[1;32m    210\u001b[0m     \u001b[0;31m# Compute accuracy for each possible representation\u001b[0m\u001b[0;34m\u001b[0m\u001b[0;34m\u001b[0m\u001b[0;34m\u001b[0m\u001b[0m\n\u001b[0;32m--> 211\u001b[0;31m     \u001b[0my_type\u001b[0m\u001b[0;34m,\u001b[0m \u001b[0my_true\u001b[0m\u001b[0;34m,\u001b[0m \u001b[0my_pred\u001b[0m \u001b[0;34m=\u001b[0m \u001b[0m_check_targets\u001b[0m\u001b[0;34m(\u001b[0m\u001b[0my_true\u001b[0m\u001b[0;34m,\u001b[0m \u001b[0my_pred\u001b[0m\u001b[0;34m)\u001b[0m\u001b[0;34m\u001b[0m\u001b[0;34m\u001b[0m\u001b[0m\n\u001b[0m\u001b[1;32m    212\u001b[0m     \u001b[0mcheck_consistent_length\u001b[0m\u001b[0;34m(\u001b[0m\u001b[0my_true\u001b[0m\u001b[0;34m,\u001b[0m \u001b[0my_pred\u001b[0m\u001b[0;34m,\u001b[0m \u001b[0msample_weight\u001b[0m\u001b[0;34m)\u001b[0m\u001b[0;34m\u001b[0m\u001b[0;34m\u001b[0m\u001b[0m\n\u001b[1;32m    213\u001b[0m     \u001b[0;32mif\u001b[0m \u001b[0my_type\u001b[0m\u001b[0;34m.\u001b[0m\u001b[0mstartswith\u001b[0m\u001b[0;34m(\u001b[0m\u001b[0;34m\"multilabel\"\u001b[0m\u001b[0;34m)\u001b[0m\u001b[0;34m:\u001b[0m\u001b[0;34m\u001b[0m\u001b[0;34m\u001b[0m\u001b[0m\n",
      "\u001b[0;32m/opt/conda/lib/python3.7/site-packages/sklearn/metrics/_classification.py\u001b[0m in \u001b[0;36m_check_targets\u001b[0;34m(y_true, y_pred)\u001b[0m\n\u001b[1;32m     93\u001b[0m         raise ValueError(\n\u001b[1;32m     94\u001b[0m             \"Classification metrics can't handle a mix of {0} and {1} targets\".format(\n\u001b[0;32m---> 95\u001b[0;31m                 \u001b[0mtype_true\u001b[0m\u001b[0;34m,\u001b[0m \u001b[0mtype_pred\u001b[0m\u001b[0;34m\u001b[0m\u001b[0;34m\u001b[0m\u001b[0m\n\u001b[0m\u001b[1;32m     96\u001b[0m             )\n\u001b[1;32m     97\u001b[0m         )\n",
      "\u001b[0;31mValueError\u001b[0m: Classification metrics can't handle a mix of binary and continuous targets"
     ]
    }
   ],
   "source": [
    "chooseModel.knn(30)"
   ]
  }
 ],
 "metadata": {
  "environment": {
   "kernel": "python3",
   "name": "common-cpu.m107",
   "type": "gcloud",
   "uri": "gcr.io/deeplearning-platform-release/base-cpu:m107"
  },
  "kernelspec": {
   "display_name": "Python 3",
   "language": "python",
   "name": "python3"
  },
  "language_info": {
   "codemirror_mode": {
    "name": "ipython",
    "version": 3
   },
   "file_extension": ".py",
   "mimetype": "text/x-python",
   "name": "python",
   "nbconvert_exporter": "python",
   "pygments_lexer": "ipython3",
   "version": "3.7.12"
  }
 },
 "nbformat": 4,
 "nbformat_minor": 5
}
